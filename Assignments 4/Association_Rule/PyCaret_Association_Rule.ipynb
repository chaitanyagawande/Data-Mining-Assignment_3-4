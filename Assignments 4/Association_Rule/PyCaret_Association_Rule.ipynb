{
  "nbformat": 4,
  "nbformat_minor": 0,
  "metadata": {
    "colab": {
      "provenance": []
    },
    "kernelspec": {
      "name": "python3",
      "display_name": "Python 3"
    },
    "language_info": {
      "name": "python"
    }
  },
  "cells": [
    {
      "cell_type": "code",
      "execution_count": 1,
      "metadata": {
        "colab": {
          "base_uri": "https://localhost:8080/"
        },
        "id": "1ZMxW5T88eRg",
        "outputId": "c677058d-fc68-48d1-f421-580185d1c007"
      },
      "outputs": [
        {
          "output_type": "stream",
          "name": "stdout",
          "text": [
            "Requirement already satisfied: pycaret==3.0.0.rc1 in /usr/local/lib/python3.10/dist-packages (3.0.0rc1)\n",
            "Requirement already satisfied: category-encoders>=2.4.0 in /usr/local/lib/python3.10/dist-packages (from pycaret==3.0.0.rc1) (2.6.2)\n",
            "Requirement already satisfied: imbalanced-learn>=0.8.1 in /usr/local/lib/python3.10/dist-packages (from pycaret==3.0.0.rc1) (0.10.1)\n",
            "Requirement already satisfied: ipython>=5.5.0 in /usr/local/lib/python3.10/dist-packages (from pycaret==3.0.0.rc1) (7.34.0)\n",
            "Requirement already satisfied: ipywidgets>=7.6.5 in /usr/local/lib/python3.10/dist-packages (from pycaret==3.0.0.rc1) (7.7.1)\n",
            "Requirement already satisfied: jinja2>=1.2 in /usr/local/lib/python3.10/dist-packages (from pycaret==3.0.0.rc1) (3.1.2)\n",
            "Requirement already satisfied: joblib>=1.1.0 in /usr/local/lib/python3.10/dist-packages (from pycaret==3.0.0.rc1) (1.3.2)\n",
            "Requirement already satisfied: kaleido>=0.2.1 in /usr/local/lib/python3.10/dist-packages (from pycaret==3.0.0.rc1) (0.2.1)\n",
            "Requirement already satisfied: lightgbm>=3.0.0 in /usr/local/lib/python3.10/dist-packages (from pycaret==3.0.0.rc1) (4.0.0)\n",
            "Requirement already satisfied: matplotlib>=3.3.0 in /usr/local/lib/python3.10/dist-packages (from pycaret==3.0.0.rc1) (3.7.1)\n",
            "Requirement already satisfied: numba~=0.55.0 in /usr/local/lib/python3.10/dist-packages (from pycaret==3.0.0.rc1) (0.55.2)\n",
            "Requirement already satisfied: numpy~=1.21 in /usr/local/lib/python3.10/dist-packages (from pycaret==3.0.0.rc1) (1.22.4)\n",
            "Requirement already satisfied: pandas<1.5.0,>=1.3.0 in /usr/local/lib/python3.10/dist-packages (from pycaret==3.0.0.rc1) (1.4.4)\n",
            "Requirement already satisfied: plotly>=5.0.0 in /usr/local/lib/python3.10/dist-packages (from pycaret==3.0.0.rc1) (5.15.0)\n",
            "Requirement already satisfied: pmdarima>=1.8.0 in /usr/local/lib/python3.10/dist-packages (from pycaret==3.0.0.rc1) (2.0.3)\n",
            "Requirement already satisfied: psutil>=5.9.0 in /usr/local/lib/python3.10/dist-packages (from pycaret==3.0.0.rc1) (5.9.5)\n",
            "Requirement already satisfied: pyod>=0.9.8 in /usr/local/lib/python3.10/dist-packages (from pycaret==3.0.0.rc1) (1.1.0)\n",
            "Requirement already satisfied: requests>=2.27.1 in /usr/local/lib/python3.10/dist-packages (from pycaret==3.0.0.rc1) (2.31.0)\n",
            "Requirement already satisfied: schemdraw>=0.14 in /usr/local/lib/python3.10/dist-packages (from pycaret==3.0.0.rc1) (0.17)\n",
            "Requirement already satisfied: scikit-learn>=1.0 in /usr/local/lib/python3.10/dist-packages (from pycaret==3.0.0.rc1) (1.2.2)\n",
            "Requirement already satisfied: scikit-plot>=0.3.7 in /usr/local/lib/python3.10/dist-packages (from pycaret==3.0.0.rc1) (0.3.7)\n",
            "Requirement already satisfied: scipy<1.9.0 in /usr/local/lib/python3.10/dist-packages (from pycaret==3.0.0.rc1) (1.8.1)\n",
            "Requirement already satisfied: sktime>=0.11.4 in /usr/local/lib/python3.10/dist-packages (from pycaret==3.0.0.rc1) (0.22.0)\n",
            "Requirement already satisfied: statsmodels>=0.12.1 in /usr/local/lib/python3.10/dist-packages (from pycaret==3.0.0.rc1) (0.14.0)\n",
            "Requirement already satisfied: tbats>=1.1.0 in /usr/local/lib/python3.10/dist-packages (from pycaret==3.0.0.rc1) (1.1.3)\n",
            "Requirement already satisfied: tqdm in /usr/local/lib/python3.10/dist-packages (from pycaret==3.0.0.rc1) (4.66.1)\n",
            "Requirement already satisfied: yellowbrick>=1.4 in /usr/local/lib/python3.10/dist-packages (from pycaret==3.0.0.rc1) (1.5)\n",
            "Requirement already satisfied: patsy>=0.5.1 in /usr/local/lib/python3.10/dist-packages (from category-encoders>=2.4.0->pycaret==3.0.0.rc1) (0.5.3)\n",
            "Requirement already satisfied: threadpoolctl>=2.0.0 in /usr/local/lib/python3.10/dist-packages (from imbalanced-learn>=0.8.1->pycaret==3.0.0.rc1) (3.2.0)\n",
            "Requirement already satisfied: setuptools>=18.5 in /usr/local/lib/python3.10/dist-packages (from ipython>=5.5.0->pycaret==3.0.0.rc1) (67.7.2)\n",
            "Requirement already satisfied: jedi>=0.16 in /usr/local/lib/python3.10/dist-packages (from ipython>=5.5.0->pycaret==3.0.0.rc1) (0.19.0)\n",
            "Requirement already satisfied: decorator in /usr/local/lib/python3.10/dist-packages (from ipython>=5.5.0->pycaret==3.0.0.rc1) (4.4.2)\n",
            "Requirement already satisfied: pickleshare in /usr/local/lib/python3.10/dist-packages (from ipython>=5.5.0->pycaret==3.0.0.rc1) (0.7.5)\n",
            "Requirement already satisfied: traitlets>=4.2 in /usr/local/lib/python3.10/dist-packages (from ipython>=5.5.0->pycaret==3.0.0.rc1) (5.7.1)\n",
            "Requirement already satisfied: prompt-toolkit!=3.0.0,!=3.0.1,<3.1.0,>=2.0.0 in /usr/local/lib/python3.10/dist-packages (from ipython>=5.5.0->pycaret==3.0.0.rc1) (3.0.39)\n",
            "Requirement already satisfied: pygments in /usr/local/lib/python3.10/dist-packages (from ipython>=5.5.0->pycaret==3.0.0.rc1) (2.16.1)\n",
            "Requirement already satisfied: backcall in /usr/local/lib/python3.10/dist-packages (from ipython>=5.5.0->pycaret==3.0.0.rc1) (0.2.0)\n",
            "Requirement already satisfied: matplotlib-inline in /usr/local/lib/python3.10/dist-packages (from ipython>=5.5.0->pycaret==3.0.0.rc1) (0.1.6)\n",
            "Requirement already satisfied: pexpect>4.3 in /usr/local/lib/python3.10/dist-packages (from ipython>=5.5.0->pycaret==3.0.0.rc1) (4.8.0)\n",
            "Requirement already satisfied: ipykernel>=4.5.1 in /usr/local/lib/python3.10/dist-packages (from ipywidgets>=7.6.5->pycaret==3.0.0.rc1) (5.5.6)\n",
            "Requirement already satisfied: ipython-genutils~=0.2.0 in /usr/local/lib/python3.10/dist-packages (from ipywidgets>=7.6.5->pycaret==3.0.0.rc1) (0.2.0)\n",
            "Requirement already satisfied: widgetsnbextension~=3.6.0 in /usr/local/lib/python3.10/dist-packages (from ipywidgets>=7.6.5->pycaret==3.0.0.rc1) (3.6.5)\n",
            "Requirement already satisfied: jupyterlab-widgets>=1.0.0 in /usr/local/lib/python3.10/dist-packages (from ipywidgets>=7.6.5->pycaret==3.0.0.rc1) (3.0.8)\n",
            "Requirement already satisfied: MarkupSafe>=2.0 in /usr/local/lib/python3.10/dist-packages (from jinja2>=1.2->pycaret==3.0.0.rc1) (2.1.3)\n",
            "Requirement already satisfied: contourpy>=1.0.1 in /usr/local/lib/python3.10/dist-packages (from matplotlib>=3.3.0->pycaret==3.0.0.rc1) (1.1.0)\n",
            "Requirement already satisfied: cycler>=0.10 in /usr/local/lib/python3.10/dist-packages (from matplotlib>=3.3.0->pycaret==3.0.0.rc1) (0.11.0)\n",
            "Requirement already satisfied: fonttools>=4.22.0 in /usr/local/lib/python3.10/dist-packages (from matplotlib>=3.3.0->pycaret==3.0.0.rc1) (4.42.1)\n",
            "Requirement already satisfied: kiwisolver>=1.0.1 in /usr/local/lib/python3.10/dist-packages (from matplotlib>=3.3.0->pycaret==3.0.0.rc1) (1.4.5)\n",
            "Requirement already satisfied: packaging>=20.0 in /usr/local/lib/python3.10/dist-packages (from matplotlib>=3.3.0->pycaret==3.0.0.rc1) (23.1)\n",
            "Requirement already satisfied: pillow>=6.2.0 in /usr/local/lib/python3.10/dist-packages (from matplotlib>=3.3.0->pycaret==3.0.0.rc1) (9.4.0)\n",
            "Requirement already satisfied: pyparsing>=2.3.1 in /usr/local/lib/python3.10/dist-packages (from matplotlib>=3.3.0->pycaret==3.0.0.rc1) (3.1.1)\n",
            "Requirement already satisfied: python-dateutil>=2.7 in /usr/local/lib/python3.10/dist-packages (from matplotlib>=3.3.0->pycaret==3.0.0.rc1) (2.8.2)\n",
            "Requirement already satisfied: llvmlite<0.39,>=0.38.0rc1 in /usr/local/lib/python3.10/dist-packages (from numba~=0.55.0->pycaret==3.0.0.rc1) (0.38.1)\n",
            "Requirement already satisfied: pytz>=2020.1 in /usr/local/lib/python3.10/dist-packages (from pandas<1.5.0,>=1.3.0->pycaret==3.0.0.rc1) (2023.3.post1)\n",
            "Requirement already satisfied: tenacity>=6.2.0 in /usr/local/lib/python3.10/dist-packages (from plotly>=5.0.0->pycaret==3.0.0.rc1) (8.2.3)\n",
            "Requirement already satisfied: Cython!=0.29.18,!=0.29.31,>=0.29 in /usr/local/lib/python3.10/dist-packages (from pmdarima>=1.8.0->pycaret==3.0.0.rc1) (0.29.36)\n",
            "Requirement already satisfied: urllib3 in /usr/local/lib/python3.10/dist-packages (from pmdarima>=1.8.0->pycaret==3.0.0.rc1) (2.0.4)\n",
            "Requirement already satisfied: six in /usr/local/lib/python3.10/dist-packages (from pyod>=0.9.8->pycaret==3.0.0.rc1) (1.16.0)\n",
            "Requirement already satisfied: charset-normalizer<4,>=2 in /usr/local/lib/python3.10/dist-packages (from requests>=2.27.1->pycaret==3.0.0.rc1) (3.2.0)\n",
            "Requirement already satisfied: idna<4,>=2.5 in /usr/local/lib/python3.10/dist-packages (from requests>=2.27.1->pycaret==3.0.0.rc1) (3.4)\n",
            "Requirement already satisfied: certifi>=2017.4.17 in /usr/local/lib/python3.10/dist-packages (from requests>=2.27.1->pycaret==3.0.0.rc1) (2023.7.22)\n",
            "Requirement already satisfied: scikit-base<0.6.0 in /usr/local/lib/python3.10/dist-packages (from sktime>=0.11.4->pycaret==3.0.0.rc1) (0.5.1)\n",
            "Requirement already satisfied: jupyter-client in /usr/local/lib/python3.10/dist-packages (from ipykernel>=4.5.1->ipywidgets>=7.6.5->pycaret==3.0.0.rc1) (6.1.12)\n",
            "Requirement already satisfied: tornado>=4.2 in /usr/local/lib/python3.10/dist-packages (from ipykernel>=4.5.1->ipywidgets>=7.6.5->pycaret==3.0.0.rc1) (6.3.2)\n",
            "Requirement already satisfied: parso<0.9.0,>=0.8.3 in /usr/local/lib/python3.10/dist-packages (from jedi>=0.16->ipython>=5.5.0->pycaret==3.0.0.rc1) (0.8.3)\n",
            "Requirement already satisfied: ptyprocess>=0.5 in /usr/local/lib/python3.10/dist-packages (from pexpect>4.3->ipython>=5.5.0->pycaret==3.0.0.rc1) (0.7.0)\n",
            "Requirement already satisfied: wcwidth in /usr/local/lib/python3.10/dist-packages (from prompt-toolkit!=3.0.0,!=3.0.1,<3.1.0,>=2.0.0->ipython>=5.5.0->pycaret==3.0.0.rc1) (0.2.6)\n",
            "Requirement already satisfied: notebook>=4.4.1 in /usr/local/lib/python3.10/dist-packages (from widgetsnbextension~=3.6.0->ipywidgets>=7.6.5->pycaret==3.0.0.rc1) (6.5.5)\n",
            "Requirement already satisfied: pyzmq<25,>=17 in /usr/local/lib/python3.10/dist-packages (from notebook>=4.4.1->widgetsnbextension~=3.6.0->ipywidgets>=7.6.5->pycaret==3.0.0.rc1) (23.2.1)\n",
            "Requirement already satisfied: argon2-cffi in /usr/local/lib/python3.10/dist-packages (from notebook>=4.4.1->widgetsnbextension~=3.6.0->ipywidgets>=7.6.5->pycaret==3.0.0.rc1) (23.1.0)\n",
            "Requirement already satisfied: jupyter-core>=4.6.1 in /usr/local/lib/python3.10/dist-packages (from notebook>=4.4.1->widgetsnbextension~=3.6.0->ipywidgets>=7.6.5->pycaret==3.0.0.rc1) (5.3.1)\n",
            "Requirement already satisfied: nbformat in /usr/local/lib/python3.10/dist-packages (from notebook>=4.4.1->widgetsnbextension~=3.6.0->ipywidgets>=7.6.5->pycaret==3.0.0.rc1) (5.9.2)\n",
            "Requirement already satisfied: nbconvert>=5 in /usr/local/lib/python3.10/dist-packages (from notebook>=4.4.1->widgetsnbextension~=3.6.0->ipywidgets>=7.6.5->pycaret==3.0.0.rc1) (6.5.4)\n",
            "Requirement already satisfied: nest-asyncio>=1.5 in /usr/local/lib/python3.10/dist-packages (from notebook>=4.4.1->widgetsnbextension~=3.6.0->ipywidgets>=7.6.5->pycaret==3.0.0.rc1) (1.5.7)\n",
            "Requirement already satisfied: Send2Trash>=1.8.0 in /usr/local/lib/python3.10/dist-packages (from notebook>=4.4.1->widgetsnbextension~=3.6.0->ipywidgets>=7.6.5->pycaret==3.0.0.rc1) (1.8.2)\n",
            "Requirement already satisfied: terminado>=0.8.3 in /usr/local/lib/python3.10/dist-packages (from notebook>=4.4.1->widgetsnbextension~=3.6.0->ipywidgets>=7.6.5->pycaret==3.0.0.rc1) (0.17.1)\n",
            "Requirement already satisfied: prometheus-client in /usr/local/lib/python3.10/dist-packages (from notebook>=4.4.1->widgetsnbextension~=3.6.0->ipywidgets>=7.6.5->pycaret==3.0.0.rc1) (0.17.1)\n",
            "Requirement already satisfied: nbclassic>=0.4.7 in /usr/local/lib/python3.10/dist-packages (from notebook>=4.4.1->widgetsnbextension~=3.6.0->ipywidgets>=7.6.5->pycaret==3.0.0.rc1) (1.0.0)\n",
            "Requirement already satisfied: platformdirs>=2.5 in /usr/local/lib/python3.10/dist-packages (from jupyter-core>=4.6.1->notebook>=4.4.1->widgetsnbextension~=3.6.0->ipywidgets>=7.6.5->pycaret==3.0.0.rc1) (3.10.0)\n",
            "Requirement already satisfied: jupyter-server>=1.8 in /usr/local/lib/python3.10/dist-packages (from nbclassic>=0.4.7->notebook>=4.4.1->widgetsnbextension~=3.6.0->ipywidgets>=7.6.5->pycaret==3.0.0.rc1) (1.24.0)\n",
            "Requirement already satisfied: notebook-shim>=0.2.3 in /usr/local/lib/python3.10/dist-packages (from nbclassic>=0.4.7->notebook>=4.4.1->widgetsnbextension~=3.6.0->ipywidgets>=7.6.5->pycaret==3.0.0.rc1) (0.2.3)\n",
            "Requirement already satisfied: lxml in /usr/local/lib/python3.10/dist-packages (from nbconvert>=5->notebook>=4.4.1->widgetsnbextension~=3.6.0->ipywidgets>=7.6.5->pycaret==3.0.0.rc1) (4.9.3)\n",
            "Requirement already satisfied: beautifulsoup4 in /usr/local/lib/python3.10/dist-packages (from nbconvert>=5->notebook>=4.4.1->widgetsnbextension~=3.6.0->ipywidgets>=7.6.5->pycaret==3.0.0.rc1) (4.11.2)\n",
            "Requirement already satisfied: bleach in /usr/local/lib/python3.10/dist-packages (from nbconvert>=5->notebook>=4.4.1->widgetsnbextension~=3.6.0->ipywidgets>=7.6.5->pycaret==3.0.0.rc1) (6.0.0)\n",
            "Requirement already satisfied: defusedxml in /usr/local/lib/python3.10/dist-packages (from nbconvert>=5->notebook>=4.4.1->widgetsnbextension~=3.6.0->ipywidgets>=7.6.5->pycaret==3.0.0.rc1) (0.7.1)\n",
            "Requirement already satisfied: entrypoints>=0.2.2 in /usr/local/lib/python3.10/dist-packages (from nbconvert>=5->notebook>=4.4.1->widgetsnbextension~=3.6.0->ipywidgets>=7.6.5->pycaret==3.0.0.rc1) (0.4)\n",
            "Requirement already satisfied: jupyterlab-pygments in /usr/local/lib/python3.10/dist-packages (from nbconvert>=5->notebook>=4.4.1->widgetsnbextension~=3.6.0->ipywidgets>=7.6.5->pycaret==3.0.0.rc1) (0.2.2)\n",
            "Requirement already satisfied: mistune<2,>=0.8.1 in /usr/local/lib/python3.10/dist-packages (from nbconvert>=5->notebook>=4.4.1->widgetsnbextension~=3.6.0->ipywidgets>=7.6.5->pycaret==3.0.0.rc1) (0.8.4)\n",
            "Requirement already satisfied: nbclient>=0.5.0 in /usr/local/lib/python3.10/dist-packages (from nbconvert>=5->notebook>=4.4.1->widgetsnbextension~=3.6.0->ipywidgets>=7.6.5->pycaret==3.0.0.rc1) (0.8.0)\n",
            "Requirement already satisfied: pandocfilters>=1.4.1 in /usr/local/lib/python3.10/dist-packages (from nbconvert>=5->notebook>=4.4.1->widgetsnbextension~=3.6.0->ipywidgets>=7.6.5->pycaret==3.0.0.rc1) (1.5.0)\n",
            "Requirement already satisfied: tinycss2 in /usr/local/lib/python3.10/dist-packages (from nbconvert>=5->notebook>=4.4.1->widgetsnbextension~=3.6.0->ipywidgets>=7.6.5->pycaret==3.0.0.rc1) (1.2.1)\n",
            "Requirement already satisfied: fastjsonschema in /usr/local/lib/python3.10/dist-packages (from nbformat->notebook>=4.4.1->widgetsnbextension~=3.6.0->ipywidgets>=7.6.5->pycaret==3.0.0.rc1) (2.18.0)\n",
            "Requirement already satisfied: jsonschema>=2.6 in /usr/local/lib/python3.10/dist-packages (from nbformat->notebook>=4.4.1->widgetsnbextension~=3.6.0->ipywidgets>=7.6.5->pycaret==3.0.0.rc1) (4.19.0)\n",
            "Requirement already satisfied: argon2-cffi-bindings in /usr/local/lib/python3.10/dist-packages (from argon2-cffi->notebook>=4.4.1->widgetsnbextension~=3.6.0->ipywidgets>=7.6.5->pycaret==3.0.0.rc1) (21.2.0)\n",
            "Requirement already satisfied: attrs>=22.2.0 in /usr/local/lib/python3.10/dist-packages (from jsonschema>=2.6->nbformat->notebook>=4.4.1->widgetsnbextension~=3.6.0->ipywidgets>=7.6.5->pycaret==3.0.0.rc1) (23.1.0)\n",
            "Requirement already satisfied: jsonschema-specifications>=2023.03.6 in /usr/local/lib/python3.10/dist-packages (from jsonschema>=2.6->nbformat->notebook>=4.4.1->widgetsnbextension~=3.6.0->ipywidgets>=7.6.5->pycaret==3.0.0.rc1) (2023.7.1)\n",
            "Requirement already satisfied: referencing>=0.28.4 in /usr/local/lib/python3.10/dist-packages (from jsonschema>=2.6->nbformat->notebook>=4.4.1->widgetsnbextension~=3.6.0->ipywidgets>=7.6.5->pycaret==3.0.0.rc1) (0.30.2)\n",
            "Requirement already satisfied: rpds-py>=0.7.1 in /usr/local/lib/python3.10/dist-packages (from jsonschema>=2.6->nbformat->notebook>=4.4.1->widgetsnbextension~=3.6.0->ipywidgets>=7.6.5->pycaret==3.0.0.rc1) (0.10.2)\n",
            "Requirement already satisfied: anyio<4,>=3.1.0 in /usr/local/lib/python3.10/dist-packages (from jupyter-server>=1.8->nbclassic>=0.4.7->notebook>=4.4.1->widgetsnbextension~=3.6.0->ipywidgets>=7.6.5->pycaret==3.0.0.rc1) (3.7.1)\n",
            "Requirement already satisfied: websocket-client in /usr/local/lib/python3.10/dist-packages (from jupyter-server>=1.8->nbclassic>=0.4.7->notebook>=4.4.1->widgetsnbextension~=3.6.0->ipywidgets>=7.6.5->pycaret==3.0.0.rc1) (1.6.2)\n",
            "Requirement already satisfied: cffi>=1.0.1 in /usr/local/lib/python3.10/dist-packages (from argon2-cffi-bindings->argon2-cffi->notebook>=4.4.1->widgetsnbextension~=3.6.0->ipywidgets>=7.6.5->pycaret==3.0.0.rc1) (1.15.1)\n",
            "Requirement already satisfied: soupsieve>1.2 in /usr/local/lib/python3.10/dist-packages (from beautifulsoup4->nbconvert>=5->notebook>=4.4.1->widgetsnbextension~=3.6.0->ipywidgets>=7.6.5->pycaret==3.0.0.rc1) (2.5)\n",
            "Requirement already satisfied: webencodings in /usr/local/lib/python3.10/dist-packages (from bleach->nbconvert>=5->notebook>=4.4.1->widgetsnbextension~=3.6.0->ipywidgets>=7.6.5->pycaret==3.0.0.rc1) (0.5.1)\n",
            "Requirement already satisfied: sniffio>=1.1 in /usr/local/lib/python3.10/dist-packages (from anyio<4,>=3.1.0->jupyter-server>=1.8->nbclassic>=0.4.7->notebook>=4.4.1->widgetsnbextension~=3.6.0->ipywidgets>=7.6.5->pycaret==3.0.0.rc1) (1.3.0)\n",
            "Requirement already satisfied: exceptiongroup in /usr/local/lib/python3.10/dist-packages (from anyio<4,>=3.1.0->jupyter-server>=1.8->nbclassic>=0.4.7->notebook>=4.4.1->widgetsnbextension~=3.6.0->ipywidgets>=7.6.5->pycaret==3.0.0.rc1) (1.1.3)\n",
            "Requirement already satisfied: pycparser in /usr/local/lib/python3.10/dist-packages (from cffi>=1.0.1->argon2-cffi-bindings->argon2-cffi->notebook>=4.4.1->widgetsnbextension~=3.6.0->ipywidgets>=7.6.5->pycaret==3.0.0.rc1) (2.21)\n"
          ]
        }
      ],
      "source": [
        "pip install pycaret==3.0.0.rc1"
      ]
    },
    {
      "cell_type": "code",
      "source": [
        "import pandas as pd\n",
        "data = pd.read_csv('Groceries_dataset.csv')\n",
        "data.head()"
      ],
      "metadata": {
        "colab": {
          "base_uri": "https://localhost:8080/",
          "height": 206
        },
        "id": "2gQo2tKx9Mvu",
        "outputId": "aff400b2-a6c0-42d9-92e4-478e20dbd971"
      },
      "execution_count": 2,
      "outputs": [
        {
          "output_type": "execute_result",
          "data": {
            "text/plain": [
              "   Member_number        Date   itemDescription\n",
              "0           1808  21-07-2015    tropical fruit\n",
              "1           2552  05-01-2015        whole milk\n",
              "2           2300  19-09-2015         pip fruit\n",
              "3           1187  12-12-2015  other vegetables\n",
              "4           3037  01-02-2015        whole milk"
            ],
            "text/html": [
              "\n",
              "  <div id=\"df-cd354fce-654a-4656-9a82-4537569a9fd4\" class=\"colab-df-container\">\n",
              "    <div>\n",
              "<style scoped>\n",
              "    .dataframe tbody tr th:only-of-type {\n",
              "        vertical-align: middle;\n",
              "    }\n",
              "\n",
              "    .dataframe tbody tr th {\n",
              "        vertical-align: top;\n",
              "    }\n",
              "\n",
              "    .dataframe thead th {\n",
              "        text-align: right;\n",
              "    }\n",
              "</style>\n",
              "<table border=\"1\" class=\"dataframe\">\n",
              "  <thead>\n",
              "    <tr style=\"text-align: right;\">\n",
              "      <th></th>\n",
              "      <th>Member_number</th>\n",
              "      <th>Date</th>\n",
              "      <th>itemDescription</th>\n",
              "    </tr>\n",
              "  </thead>\n",
              "  <tbody>\n",
              "    <tr>\n",
              "      <th>0</th>\n",
              "      <td>1808</td>\n",
              "      <td>21-07-2015</td>\n",
              "      <td>tropical fruit</td>\n",
              "    </tr>\n",
              "    <tr>\n",
              "      <th>1</th>\n",
              "      <td>2552</td>\n",
              "      <td>05-01-2015</td>\n",
              "      <td>whole milk</td>\n",
              "    </tr>\n",
              "    <tr>\n",
              "      <th>2</th>\n",
              "      <td>2300</td>\n",
              "      <td>19-09-2015</td>\n",
              "      <td>pip fruit</td>\n",
              "    </tr>\n",
              "    <tr>\n",
              "      <th>3</th>\n",
              "      <td>1187</td>\n",
              "      <td>12-12-2015</td>\n",
              "      <td>other vegetables</td>\n",
              "    </tr>\n",
              "    <tr>\n",
              "      <th>4</th>\n",
              "      <td>3037</td>\n",
              "      <td>01-02-2015</td>\n",
              "      <td>whole milk</td>\n",
              "    </tr>\n",
              "  </tbody>\n",
              "</table>\n",
              "</div>\n",
              "    <div class=\"colab-df-buttons\">\n",
              "\n",
              "  <div class=\"colab-df-container\">\n",
              "    <button class=\"colab-df-convert\" onclick=\"convertToInteractive('df-cd354fce-654a-4656-9a82-4537569a9fd4')\"\n",
              "            title=\"Convert this dataframe to an interactive table.\"\n",
              "            style=\"display:none;\">\n",
              "\n",
              "  <svg xmlns=\"http://www.w3.org/2000/svg\" height=\"24px\" viewBox=\"0 -960 960 960\">\n",
              "    <path d=\"M120-120v-720h720v720H120Zm60-500h600v-160H180v160Zm220 220h160v-160H400v160Zm0 220h160v-160H400v160ZM180-400h160v-160H180v160Zm440 0h160v-160H620v160ZM180-180h160v-160H180v160Zm440 0h160v-160H620v160Z\"/>\n",
              "  </svg>\n",
              "    </button>\n",
              "\n",
              "  <style>\n",
              "    .colab-df-container {\n",
              "      display:flex;\n",
              "      gap: 12px;\n",
              "    }\n",
              "\n",
              "    .colab-df-convert {\n",
              "      background-color: #E8F0FE;\n",
              "      border: none;\n",
              "      border-radius: 50%;\n",
              "      cursor: pointer;\n",
              "      display: none;\n",
              "      fill: #1967D2;\n",
              "      height: 32px;\n",
              "      padding: 0 0 0 0;\n",
              "      width: 32px;\n",
              "    }\n",
              "\n",
              "    .colab-df-convert:hover {\n",
              "      background-color: #E2EBFA;\n",
              "      box-shadow: 0px 1px 2px rgba(60, 64, 67, 0.3), 0px 1px 3px 1px rgba(60, 64, 67, 0.15);\n",
              "      fill: #174EA6;\n",
              "    }\n",
              "\n",
              "    .colab-df-buttons div {\n",
              "      margin-bottom: 4px;\n",
              "    }\n",
              "\n",
              "    [theme=dark] .colab-df-convert {\n",
              "      background-color: #3B4455;\n",
              "      fill: #D2E3FC;\n",
              "    }\n",
              "\n",
              "    [theme=dark] .colab-df-convert:hover {\n",
              "      background-color: #434B5C;\n",
              "      box-shadow: 0px 1px 3px 1px rgba(0, 0, 0, 0.15);\n",
              "      filter: drop-shadow(0px 1px 2px rgba(0, 0, 0, 0.3));\n",
              "      fill: #FFFFFF;\n",
              "    }\n",
              "  </style>\n",
              "\n",
              "    <script>\n",
              "      const buttonEl =\n",
              "        document.querySelector('#df-cd354fce-654a-4656-9a82-4537569a9fd4 button.colab-df-convert');\n",
              "      buttonEl.style.display =\n",
              "        google.colab.kernel.accessAllowed ? 'block' : 'none';\n",
              "\n",
              "      async function convertToInteractive(key) {\n",
              "        const element = document.querySelector('#df-cd354fce-654a-4656-9a82-4537569a9fd4');\n",
              "        const dataTable =\n",
              "          await google.colab.kernel.invokeFunction('convertToInteractive',\n",
              "                                                    [key], {});\n",
              "        if (!dataTable) return;\n",
              "\n",
              "        const docLinkHtml = 'Like what you see? Visit the ' +\n",
              "          '<a target=\"_blank\" href=https://colab.research.google.com/notebooks/data_table.ipynb>data table notebook</a>'\n",
              "          + ' to learn more about interactive tables.';\n",
              "        element.innerHTML = '';\n",
              "        dataTable['output_type'] = 'display_data';\n",
              "        await google.colab.output.renderOutput(dataTable, element);\n",
              "        const docLink = document.createElement('div');\n",
              "        docLink.innerHTML = docLinkHtml;\n",
              "        element.appendChild(docLink);\n",
              "      }\n",
              "    </script>\n",
              "  </div>\n",
              "\n",
              "\n",
              "<div id=\"df-21597724-da4e-41d5-9196-95171d56209c\">\n",
              "  <button class=\"colab-df-quickchart\" onclick=\"quickchart('df-21597724-da4e-41d5-9196-95171d56209c')\"\n",
              "            title=\"Suggest charts.\"\n",
              "            style=\"display:none;\">\n",
              "\n",
              "<svg xmlns=\"http://www.w3.org/2000/svg\" height=\"24px\"viewBox=\"0 0 24 24\"\n",
              "     width=\"24px\">\n",
              "    <g>\n",
              "        <path d=\"M19 3H5c-1.1 0-2 .9-2 2v14c0 1.1.9 2 2 2h14c1.1 0 2-.9 2-2V5c0-1.1-.9-2-2-2zM9 17H7v-7h2v7zm4 0h-2V7h2v10zm4 0h-2v-4h2v4z\"/>\n",
              "    </g>\n",
              "</svg>\n",
              "  </button>\n",
              "\n",
              "<style>\n",
              "  .colab-df-quickchart {\n",
              "      --bg-color: #E8F0FE;\n",
              "      --fill-color: #1967D2;\n",
              "      --hover-bg-color: #E2EBFA;\n",
              "      --hover-fill-color: #174EA6;\n",
              "      --disabled-fill-color: #AAA;\n",
              "      --disabled-bg-color: #DDD;\n",
              "  }\n",
              "\n",
              "  [theme=dark] .colab-df-quickchart {\n",
              "      --bg-color: #3B4455;\n",
              "      --fill-color: #D2E3FC;\n",
              "      --hover-bg-color: #434B5C;\n",
              "      --hover-fill-color: #FFFFFF;\n",
              "      --disabled-bg-color: #3B4455;\n",
              "      --disabled-fill-color: #666;\n",
              "  }\n",
              "\n",
              "  .colab-df-quickchart {\n",
              "    background-color: var(--bg-color);\n",
              "    border: none;\n",
              "    border-radius: 50%;\n",
              "    cursor: pointer;\n",
              "    display: none;\n",
              "    fill: var(--fill-color);\n",
              "    height: 32px;\n",
              "    padding: 0;\n",
              "    width: 32px;\n",
              "  }\n",
              "\n",
              "  .colab-df-quickchart:hover {\n",
              "    background-color: var(--hover-bg-color);\n",
              "    box-shadow: 0 1px 2px rgba(60, 64, 67, 0.3), 0 1px 3px 1px rgba(60, 64, 67, 0.15);\n",
              "    fill: var(--button-hover-fill-color);\n",
              "  }\n",
              "\n",
              "  .colab-df-quickchart-complete:disabled,\n",
              "  .colab-df-quickchart-complete:disabled:hover {\n",
              "    background-color: var(--disabled-bg-color);\n",
              "    fill: var(--disabled-fill-color);\n",
              "    box-shadow: none;\n",
              "  }\n",
              "\n",
              "  .colab-df-spinner {\n",
              "    border: 2px solid var(--fill-color);\n",
              "    border-color: transparent;\n",
              "    border-bottom-color: var(--fill-color);\n",
              "    animation:\n",
              "      spin 1s steps(1) infinite;\n",
              "  }\n",
              "\n",
              "  @keyframes spin {\n",
              "    0% {\n",
              "      border-color: transparent;\n",
              "      border-bottom-color: var(--fill-color);\n",
              "      border-left-color: var(--fill-color);\n",
              "    }\n",
              "    20% {\n",
              "      border-color: transparent;\n",
              "      border-left-color: var(--fill-color);\n",
              "      border-top-color: var(--fill-color);\n",
              "    }\n",
              "    30% {\n",
              "      border-color: transparent;\n",
              "      border-left-color: var(--fill-color);\n",
              "      border-top-color: var(--fill-color);\n",
              "      border-right-color: var(--fill-color);\n",
              "    }\n",
              "    40% {\n",
              "      border-color: transparent;\n",
              "      border-right-color: var(--fill-color);\n",
              "      border-top-color: var(--fill-color);\n",
              "    }\n",
              "    60% {\n",
              "      border-color: transparent;\n",
              "      border-right-color: var(--fill-color);\n",
              "    }\n",
              "    80% {\n",
              "      border-color: transparent;\n",
              "      border-right-color: var(--fill-color);\n",
              "      border-bottom-color: var(--fill-color);\n",
              "    }\n",
              "    90% {\n",
              "      border-color: transparent;\n",
              "      border-bottom-color: var(--fill-color);\n",
              "    }\n",
              "  }\n",
              "</style>\n",
              "\n",
              "  <script>\n",
              "    async function quickchart(key) {\n",
              "      const quickchartButtonEl =\n",
              "        document.querySelector('#' + key + ' button');\n",
              "      quickchartButtonEl.disabled = true;  // To prevent multiple clicks.\n",
              "      quickchartButtonEl.classList.add('colab-df-spinner');\n",
              "      try {\n",
              "        const charts = await google.colab.kernel.invokeFunction(\n",
              "            'suggestCharts', [key], {});\n",
              "      } catch (error) {\n",
              "        console.error('Error during call to suggestCharts:', error);\n",
              "      }\n",
              "      quickchartButtonEl.classList.remove('colab-df-spinner');\n",
              "      quickchartButtonEl.classList.add('colab-df-quickchart-complete');\n",
              "    }\n",
              "    (() => {\n",
              "      let quickchartButtonEl =\n",
              "        document.querySelector('#df-21597724-da4e-41d5-9196-95171d56209c button');\n",
              "      quickchartButtonEl.style.display =\n",
              "        google.colab.kernel.accessAllowed ? 'block' : 'none';\n",
              "    })();\n",
              "  </script>\n",
              "</div>\n",
              "\n",
              "    </div>\n",
              "  </div>\n"
            ]
          },
          "metadata": {},
          "execution_count": 2
        }
      ]
    },
    {
      "cell_type": "code",
      "source": [
        "from pycaret.arules import *\n",
        "s = setup(data, transaction_id='Member_number', item_id='itemDescription')"
      ],
      "metadata": {
        "colab": {
          "base_uri": "https://localhost:8080/",
          "height": 174
        },
        "id": "t9vuc_Zz9qTn",
        "outputId": "88a571a0-6742-4a89-a4cc-508822b85c12"
      },
      "execution_count": 30,
      "outputs": [
        {
          "output_type": "display_data",
          "data": {
            "text/plain": [
              "<pandas.io.formats.style.Styler at 0x797df123f8b0>"
            ],
            "text/html": [
              "<style type=\"text/css\">\n",
              "</style>\n",
              "<table id=\"T_a453c\" class=\"dataframe\">\n",
              "  <thead>\n",
              "    <tr>\n",
              "      <th id=\"T_a453c_level0_col0\" class=\"col_heading level0 col0\" >Description</th>\n",
              "      <th id=\"T_a453c_level0_col1\" class=\"col_heading level0 col1\" >Value</th>\n",
              "    </tr>\n",
              "  </thead>\n",
              "  <tbody>\n",
              "    <tr>\n",
              "      <td id=\"T_a453c_row0_col0\" class=\"data row0 col0\" >session_id</td>\n",
              "      <td id=\"T_a453c_row0_col1\" class=\"data row0 col1\" >7756</td>\n",
              "    </tr>\n",
              "    <tr>\n",
              "      <td id=\"T_a453c_row1_col0\" class=\"data row1 col0\" ># Transactions</td>\n",
              "      <td id=\"T_a453c_row1_col1\" class=\"data row1 col1\" >3898</td>\n",
              "    </tr>\n",
              "    <tr>\n",
              "      <td id=\"T_a453c_row2_col0\" class=\"data row2 col0\" ># Items</td>\n",
              "      <td id=\"T_a453c_row2_col1\" class=\"data row2 col1\" >167</td>\n",
              "    </tr>\n",
              "    <tr>\n",
              "      <td id=\"T_a453c_row3_col0\" class=\"data row3 col0\" >Ignore Items</td>\n",
              "      <td id=\"T_a453c_row3_col1\" class=\"data row3 col1\" >None</td>\n",
              "    </tr>\n",
              "  </tbody>\n",
              "</table>\n"
            ]
          },
          "metadata": {}
        }
      ]
    },
    {
      "cell_type": "code",
      "source": [
        "ml_model = create_model('confidence', threshold=0.3)\n",
        "ml_model.head()"
      ],
      "metadata": {
        "colab": {
          "base_uri": "https://localhost:8080/",
          "height": 206
        },
        "id": "cnfxJnV8914s",
        "outputId": "7b9d34b9-f941-46ba-bc9a-93ee45122043"
      },
      "execution_count": 36,
      "outputs": [
        {
          "output_type": "execute_result",
          "data": {
            "text/plain": [
              "                         antecedents   consequents  antecedent support  \\\n",
              "0  (bottled water, other vegetables)  (whole milk)              0.0939   \n",
              "1         (yogurt, other vegetables)  (whole milk)              0.1203   \n",
              "2               (rolls/buns, yogurt)  (whole milk)              0.1113   \n",
              "3     (rolls/buns, other vegetables)  (whole milk)              0.1467   \n",
              "4                     (yogurt, soda)  (whole milk)              0.0975   \n",
              "\n",
              "   consequent support  support  confidence    lift  leverage  conviction  \\\n",
              "0              0.4582   0.0562      0.5984  1.3059    0.0132      1.3490   \n",
              "1              0.4582   0.0718      0.5970  1.3030    0.0167      1.3445   \n",
              "2              0.4582   0.0659      0.5922  1.2924    0.0149      1.3285   \n",
              "3              0.4582   0.0821      0.5594  1.2210    0.0149      1.2298   \n",
              "4              0.4582   0.0544      0.5579  1.2176    0.0097      1.2255   \n",
              "\n",
              "   zhangs_metric  \n",
              "0         0.2585  \n",
              "1         0.2643  \n",
              "2         0.2546  \n",
              "3         0.2121  \n",
              "4         0.1980  "
            ],
            "text/html": [
              "\n",
              "  <div id=\"df-67924394-88a6-4301-87dc-34af47826049\" class=\"colab-df-container\">\n",
              "    <div>\n",
              "<style scoped>\n",
              "    .dataframe tbody tr th:only-of-type {\n",
              "        vertical-align: middle;\n",
              "    }\n",
              "\n",
              "    .dataframe tbody tr th {\n",
              "        vertical-align: top;\n",
              "    }\n",
              "\n",
              "    .dataframe thead th {\n",
              "        text-align: right;\n",
              "    }\n",
              "</style>\n",
              "<table border=\"1\" class=\"dataframe\">\n",
              "  <thead>\n",
              "    <tr style=\"text-align: right;\">\n",
              "      <th></th>\n",
              "      <th>antecedents</th>\n",
              "      <th>consequents</th>\n",
              "      <th>antecedent support</th>\n",
              "      <th>consequent support</th>\n",
              "      <th>support</th>\n",
              "      <th>confidence</th>\n",
              "      <th>lift</th>\n",
              "      <th>leverage</th>\n",
              "      <th>conviction</th>\n",
              "      <th>zhangs_metric</th>\n",
              "    </tr>\n",
              "  </thead>\n",
              "  <tbody>\n",
              "    <tr>\n",
              "      <th>0</th>\n",
              "      <td>(bottled water, other vegetables)</td>\n",
              "      <td>(whole milk)</td>\n",
              "      <td>0.0939</td>\n",
              "      <td>0.4582</td>\n",
              "      <td>0.0562</td>\n",
              "      <td>0.5984</td>\n",
              "      <td>1.3059</td>\n",
              "      <td>0.0132</td>\n",
              "      <td>1.3490</td>\n",
              "      <td>0.2585</td>\n",
              "    </tr>\n",
              "    <tr>\n",
              "      <th>1</th>\n",
              "      <td>(yogurt, other vegetables)</td>\n",
              "      <td>(whole milk)</td>\n",
              "      <td>0.1203</td>\n",
              "      <td>0.4582</td>\n",
              "      <td>0.0718</td>\n",
              "      <td>0.5970</td>\n",
              "      <td>1.3030</td>\n",
              "      <td>0.0167</td>\n",
              "      <td>1.3445</td>\n",
              "      <td>0.2643</td>\n",
              "    </tr>\n",
              "    <tr>\n",
              "      <th>2</th>\n",
              "      <td>(rolls/buns, yogurt)</td>\n",
              "      <td>(whole milk)</td>\n",
              "      <td>0.1113</td>\n",
              "      <td>0.4582</td>\n",
              "      <td>0.0659</td>\n",
              "      <td>0.5922</td>\n",
              "      <td>1.2924</td>\n",
              "      <td>0.0149</td>\n",
              "      <td>1.3285</td>\n",
              "      <td>0.2546</td>\n",
              "    </tr>\n",
              "    <tr>\n",
              "      <th>3</th>\n",
              "      <td>(rolls/buns, other vegetables)</td>\n",
              "      <td>(whole milk)</td>\n",
              "      <td>0.1467</td>\n",
              "      <td>0.4582</td>\n",
              "      <td>0.0821</td>\n",
              "      <td>0.5594</td>\n",
              "      <td>1.2210</td>\n",
              "      <td>0.0149</td>\n",
              "      <td>1.2298</td>\n",
              "      <td>0.2121</td>\n",
              "    </tr>\n",
              "    <tr>\n",
              "      <th>4</th>\n",
              "      <td>(yogurt, soda)</td>\n",
              "      <td>(whole milk)</td>\n",
              "      <td>0.0975</td>\n",
              "      <td>0.4582</td>\n",
              "      <td>0.0544</td>\n",
              "      <td>0.5579</td>\n",
              "      <td>1.2176</td>\n",
              "      <td>0.0097</td>\n",
              "      <td>1.2255</td>\n",
              "      <td>0.1980</td>\n",
              "    </tr>\n",
              "  </tbody>\n",
              "</table>\n",
              "</div>\n",
              "    <div class=\"colab-df-buttons\">\n",
              "\n",
              "  <div class=\"colab-df-container\">\n",
              "    <button class=\"colab-df-convert\" onclick=\"convertToInteractive('df-67924394-88a6-4301-87dc-34af47826049')\"\n",
              "            title=\"Convert this dataframe to an interactive table.\"\n",
              "            style=\"display:none;\">\n",
              "\n",
              "  <svg xmlns=\"http://www.w3.org/2000/svg\" height=\"24px\" viewBox=\"0 -960 960 960\">\n",
              "    <path d=\"M120-120v-720h720v720H120Zm60-500h600v-160H180v160Zm220 220h160v-160H400v160Zm0 220h160v-160H400v160ZM180-400h160v-160H180v160Zm440 0h160v-160H620v160ZM180-180h160v-160H180v160Zm440 0h160v-160H620v160Z\"/>\n",
              "  </svg>\n",
              "    </button>\n",
              "\n",
              "  <style>\n",
              "    .colab-df-container {\n",
              "      display:flex;\n",
              "      gap: 12px;\n",
              "    }\n",
              "\n",
              "    .colab-df-convert {\n",
              "      background-color: #E8F0FE;\n",
              "      border: none;\n",
              "      border-radius: 50%;\n",
              "      cursor: pointer;\n",
              "      display: none;\n",
              "      fill: #1967D2;\n",
              "      height: 32px;\n",
              "      padding: 0 0 0 0;\n",
              "      width: 32px;\n",
              "    }\n",
              "\n",
              "    .colab-df-convert:hover {\n",
              "      background-color: #E2EBFA;\n",
              "      box-shadow: 0px 1px 2px rgba(60, 64, 67, 0.3), 0px 1px 3px 1px rgba(60, 64, 67, 0.15);\n",
              "      fill: #174EA6;\n",
              "    }\n",
              "\n",
              "    .colab-df-buttons div {\n",
              "      margin-bottom: 4px;\n",
              "    }\n",
              "\n",
              "    [theme=dark] .colab-df-convert {\n",
              "      background-color: #3B4455;\n",
              "      fill: #D2E3FC;\n",
              "    }\n",
              "\n",
              "    [theme=dark] .colab-df-convert:hover {\n",
              "      background-color: #434B5C;\n",
              "      box-shadow: 0px 1px 3px 1px rgba(0, 0, 0, 0.15);\n",
              "      filter: drop-shadow(0px 1px 2px rgba(0, 0, 0, 0.3));\n",
              "      fill: #FFFFFF;\n",
              "    }\n",
              "  </style>\n",
              "\n",
              "    <script>\n",
              "      const buttonEl =\n",
              "        document.querySelector('#df-67924394-88a6-4301-87dc-34af47826049 button.colab-df-convert');\n",
              "      buttonEl.style.display =\n",
              "        google.colab.kernel.accessAllowed ? 'block' : 'none';\n",
              "\n",
              "      async function convertToInteractive(key) {\n",
              "        const element = document.querySelector('#df-67924394-88a6-4301-87dc-34af47826049');\n",
              "        const dataTable =\n",
              "          await google.colab.kernel.invokeFunction('convertToInteractive',\n",
              "                                                    [key], {});\n",
              "        if (!dataTable) return;\n",
              "\n",
              "        const docLinkHtml = 'Like what you see? Visit the ' +\n",
              "          '<a target=\"_blank\" href=https://colab.research.google.com/notebooks/data_table.ipynb>data table notebook</a>'\n",
              "          + ' to learn more about interactive tables.';\n",
              "        element.innerHTML = '';\n",
              "        dataTable['output_type'] = 'display_data';\n",
              "        await google.colab.output.renderOutput(dataTable, element);\n",
              "        const docLink = document.createElement('div');\n",
              "        docLink.innerHTML = docLinkHtml;\n",
              "        element.appendChild(docLink);\n",
              "      }\n",
              "    </script>\n",
              "  </div>\n",
              "\n",
              "\n",
              "<div id=\"df-68b74716-143e-4e8c-9c31-8fdc8a4c0f67\">\n",
              "  <button class=\"colab-df-quickchart\" onclick=\"quickchart('df-68b74716-143e-4e8c-9c31-8fdc8a4c0f67')\"\n",
              "            title=\"Suggest charts.\"\n",
              "            style=\"display:none;\">\n",
              "\n",
              "<svg xmlns=\"http://www.w3.org/2000/svg\" height=\"24px\"viewBox=\"0 0 24 24\"\n",
              "     width=\"24px\">\n",
              "    <g>\n",
              "        <path d=\"M19 3H5c-1.1 0-2 .9-2 2v14c0 1.1.9 2 2 2h14c1.1 0 2-.9 2-2V5c0-1.1-.9-2-2-2zM9 17H7v-7h2v7zm4 0h-2V7h2v10zm4 0h-2v-4h2v4z\"/>\n",
              "    </g>\n",
              "</svg>\n",
              "  </button>\n",
              "\n",
              "<style>\n",
              "  .colab-df-quickchart {\n",
              "      --bg-color: #E8F0FE;\n",
              "      --fill-color: #1967D2;\n",
              "      --hover-bg-color: #E2EBFA;\n",
              "      --hover-fill-color: #174EA6;\n",
              "      --disabled-fill-color: #AAA;\n",
              "      --disabled-bg-color: #DDD;\n",
              "  }\n",
              "\n",
              "  [theme=dark] .colab-df-quickchart {\n",
              "      --bg-color: #3B4455;\n",
              "      --fill-color: #D2E3FC;\n",
              "      --hover-bg-color: #434B5C;\n",
              "      --hover-fill-color: #FFFFFF;\n",
              "      --disabled-bg-color: #3B4455;\n",
              "      --disabled-fill-color: #666;\n",
              "  }\n",
              "\n",
              "  .colab-df-quickchart {\n",
              "    background-color: var(--bg-color);\n",
              "    border: none;\n",
              "    border-radius: 50%;\n",
              "    cursor: pointer;\n",
              "    display: none;\n",
              "    fill: var(--fill-color);\n",
              "    height: 32px;\n",
              "    padding: 0;\n",
              "    width: 32px;\n",
              "  }\n",
              "\n",
              "  .colab-df-quickchart:hover {\n",
              "    background-color: var(--hover-bg-color);\n",
              "    box-shadow: 0 1px 2px rgba(60, 64, 67, 0.3), 0 1px 3px 1px rgba(60, 64, 67, 0.15);\n",
              "    fill: var(--button-hover-fill-color);\n",
              "  }\n",
              "\n",
              "  .colab-df-quickchart-complete:disabled,\n",
              "  .colab-df-quickchart-complete:disabled:hover {\n",
              "    background-color: var(--disabled-bg-color);\n",
              "    fill: var(--disabled-fill-color);\n",
              "    box-shadow: none;\n",
              "  }\n",
              "\n",
              "  .colab-df-spinner {\n",
              "    border: 2px solid var(--fill-color);\n",
              "    border-color: transparent;\n",
              "    border-bottom-color: var(--fill-color);\n",
              "    animation:\n",
              "      spin 1s steps(1) infinite;\n",
              "  }\n",
              "\n",
              "  @keyframes spin {\n",
              "    0% {\n",
              "      border-color: transparent;\n",
              "      border-bottom-color: var(--fill-color);\n",
              "      border-left-color: var(--fill-color);\n",
              "    }\n",
              "    20% {\n",
              "      border-color: transparent;\n",
              "      border-left-color: var(--fill-color);\n",
              "      border-top-color: var(--fill-color);\n",
              "    }\n",
              "    30% {\n",
              "      border-color: transparent;\n",
              "      border-left-color: var(--fill-color);\n",
              "      border-top-color: var(--fill-color);\n",
              "      border-right-color: var(--fill-color);\n",
              "    }\n",
              "    40% {\n",
              "      border-color: transparent;\n",
              "      border-right-color: var(--fill-color);\n",
              "      border-top-color: var(--fill-color);\n",
              "    }\n",
              "    60% {\n",
              "      border-color: transparent;\n",
              "      border-right-color: var(--fill-color);\n",
              "    }\n",
              "    80% {\n",
              "      border-color: transparent;\n",
              "      border-right-color: var(--fill-color);\n",
              "      border-bottom-color: var(--fill-color);\n",
              "    }\n",
              "    90% {\n",
              "      border-color: transparent;\n",
              "      border-bottom-color: var(--fill-color);\n",
              "    }\n",
              "  }\n",
              "</style>\n",
              "\n",
              "  <script>\n",
              "    async function quickchart(key) {\n",
              "      const quickchartButtonEl =\n",
              "        document.querySelector('#' + key + ' button');\n",
              "      quickchartButtonEl.disabled = true;  // To prevent multiple clicks.\n",
              "      quickchartButtonEl.classList.add('colab-df-spinner');\n",
              "      try {\n",
              "        const charts = await google.colab.kernel.invokeFunction(\n",
              "            'suggestCharts', [key], {});\n",
              "      } catch (error) {\n",
              "        console.error('Error during call to suggestCharts:', error);\n",
              "      }\n",
              "      quickchartButtonEl.classList.remove('colab-df-spinner');\n",
              "      quickchartButtonEl.classList.add('colab-df-quickchart-complete');\n",
              "    }\n",
              "    (() => {\n",
              "      let quickchartButtonEl =\n",
              "        document.querySelector('#df-68b74716-143e-4e8c-9c31-8fdc8a4c0f67 button');\n",
              "      quickchartButtonEl.style.display =\n",
              "        google.colab.kernel.accessAllowed ? 'block' : 'none';\n",
              "    })();\n",
              "  </script>\n",
              "</div>\n",
              "\n",
              "    </div>\n",
              "  </div>\n"
            ]
          },
          "metadata": {},
          "execution_count": 36
        }
      ]
    },
    {
      "cell_type": "code",
      "source": [
        "plot_model(ml_model, plot = '3d')\n",
        "\n",
        "# Plot is not generating for this model."
      ],
      "metadata": {
        "colab": {
          "base_uri": "https://localhost:8080/",
          "height": 817
        },
        "id": "lYlYBmcO-idM",
        "outputId": "3aa12d59-4c6a-4b34-a70f-c9261ab4caad"
      },
      "execution_count": 37,
      "outputs": [
        {
          "output_type": "display_data",
          "data": {
            "text/html": [
              "        <script type=\"text/javascript\">\n",
              "        window.PlotlyConfig = {MathJaxConfig: 'local'};\n",
              "        if (window.MathJax && window.MathJax.Hub && window.MathJax.Hub.Config) {window.MathJax.Hub.Config({SVG: {font: \"STIX-Web\"}});}\n",
              "        if (typeof require !== 'undefined') {\n",
              "        require.undef(\"plotly\");\n",
              "        requirejs.config({\n",
              "            paths: {\n",
              "                'plotly': ['https://cdn.plot.ly/plotly-2.24.1.min']\n",
              "            }\n",
              "        });\n",
              "        require(['plotly'], function(Plotly) {\n",
              "            window._Plotly = Plotly;\n",
              "        });\n",
              "        }\n",
              "        </script>\n",
              "        "
            ]
          },
          "metadata": {}
        },
        {
          "output_type": "display_data",
          "data": {
            "application/vnd.plotly.v1+json": {
              "data": [
                {
                  "customdata": [
                    [
                      [
                        "bottled water",
                        "other vegetables"
                      ],
                      [
                        "whole milk"
                      ]
                    ],
                    [
                      [
                        "yogurt",
                        "other vegetables"
                      ],
                      [
                        "whole milk"
                      ]
                    ],
                    [
                      [
                        "rolls/buns",
                        "yogurt"
                      ],
                      [
                        "whole milk"
                      ]
                    ],
                    [
                      [
                        "rolls/buns",
                        "other vegetables"
                      ],
                      [
                        "whole milk"
                      ]
                    ],
                    [
                      [
                        "yogurt",
                        "soda"
                      ],
                      [
                        "whole milk"
                      ]
                    ],
                    [
                      [
                        "other vegetables",
                        "soda"
                      ],
                      [
                        "whole milk"
                      ]
                    ],
                    [
                      [
                        "other vegetables",
                        "tropical fruit"
                      ],
                      [
                        "whole milk"
                      ]
                    ],
                    [
                      [
                        "rolls/buns",
                        "soda"
                      ],
                      [
                        "whole milk"
                      ]
                    ],
                    [
                      [
                        "shopping bags"
                      ],
                      [
                        "whole milk"
                      ]
                    ],
                    [
                      [
                        "sausage",
                        "other vegetables"
                      ],
                      [
                        "whole milk"
                      ]
                    ],
                    [
                      [
                        "bottled beer"
                      ],
                      [
                        "whole milk"
                      ]
                    ],
                    [
                      [
                        "frozen vegetables"
                      ],
                      [
                        "whole milk"
                      ]
                    ],
                    [
                      [
                        "beef"
                      ],
                      [
                        "whole milk"
                      ]
                    ],
                    [
                      [
                        "yogurt"
                      ],
                      [
                        "whole milk"
                      ]
                    ],
                    [
                      [
                        "canned beer"
                      ],
                      [
                        "whole milk"
                      ]
                    ],
                    [
                      [
                        "domestic eggs"
                      ],
                      [
                        "whole milk"
                      ]
                    ],
                    [
                      [
                        "curd"
                      ],
                      [
                        "whole milk"
                      ]
                    ],
                    [
                      [
                        "bottled water"
                      ],
                      [
                        "whole milk"
                      ]
                    ],
                    [
                      [
                        "butter"
                      ],
                      [
                        "whole milk"
                      ]
                    ],
                    [
                      [
                        "sausage"
                      ],
                      [
                        "whole milk"
                      ]
                    ],
                    [
                      [
                        "newspapers"
                      ],
                      [
                        "whole milk"
                      ]
                    ],
                    [
                      [
                        "whipped/sour cream"
                      ],
                      [
                        "whole milk"
                      ]
                    ],
                    [
                      [
                        "brown bread"
                      ],
                      [
                        "whole milk"
                      ]
                    ],
                    [
                      [
                        "pastry"
                      ],
                      [
                        "whole milk"
                      ]
                    ],
                    [
                      [
                        "rolls/buns"
                      ],
                      [
                        "whole milk"
                      ]
                    ],
                    [
                      [
                        "pip fruit"
                      ],
                      [
                        "whole milk"
                      ]
                    ],
                    [
                      [
                        "margarine"
                      ],
                      [
                        "whole milk"
                      ]
                    ],
                    [
                      [
                        "other vegetables"
                      ],
                      [
                        "whole milk"
                      ]
                    ],
                    [
                      [
                        "pork"
                      ],
                      [
                        "whole milk"
                      ]
                    ],
                    [
                      [
                        "bottled water",
                        "whole milk"
                      ],
                      [
                        "other vegetables"
                      ]
                    ],
                    [
                      [
                        "fruit/vegetable juice"
                      ],
                      [
                        "whole milk"
                      ]
                    ],
                    [
                      [
                        "tropical fruit"
                      ],
                      [
                        "whole milk"
                      ]
                    ],
                    [
                      [
                        "citrus fruit"
                      ],
                      [
                        "whole milk"
                      ]
                    ],
                    [
                      [
                        "chicken"
                      ],
                      [
                        "whole milk"
                      ]
                    ],
                    [
                      [
                        "frankfurter"
                      ],
                      [
                        "whole milk"
                      ]
                    ],
                    [
                      [
                        "root vegetables"
                      ],
                      [
                        "whole milk"
                      ]
                    ],
                    [
                      [
                        "soda"
                      ],
                      [
                        "whole milk"
                      ]
                    ],
                    [
                      [
                        "coffee"
                      ],
                      [
                        "whole milk"
                      ]
                    ],
                    [
                      [
                        "whole milk",
                        "yogurt"
                      ],
                      [
                        "other vegetables"
                      ]
                    ],
                    [
                      [
                        "rolls/buns",
                        "yogurt"
                      ],
                      [
                        "other vegetables"
                      ]
                    ],
                    [
                      [
                        "sausage",
                        "whole milk"
                      ],
                      [
                        "other vegetables"
                      ]
                    ],
                    [
                      [
                        "rolls/buns",
                        "whole milk"
                      ],
                      [
                        "other vegetables"
                      ]
                    ],
                    [
                      [
                        "whole milk",
                        "soda"
                      ],
                      [
                        "other vegetables"
                      ]
                    ],
                    [
                      [
                        "butter"
                      ],
                      [
                        "other vegetables"
                      ]
                    ],
                    [
                      [
                        "sausage"
                      ],
                      [
                        "other vegetables"
                      ]
                    ],
                    [
                      [
                        "frankfurter"
                      ],
                      [
                        "other vegetables"
                      ]
                    ],
                    [
                      [
                        "brown bread"
                      ],
                      [
                        "other vegetables"
                      ]
                    ],
                    [
                      [
                        "bottled water"
                      ],
                      [
                        "other vegetables"
                      ]
                    ],
                    [
                      [
                        "rolls/buns",
                        "soda"
                      ],
                      [
                        "other vegetables"
                      ]
                    ],
                    [
                      [
                        "whole milk",
                        "yogurt"
                      ],
                      [
                        "rolls/buns"
                      ]
                    ],
                    [
                      [
                        "yogurt",
                        "other vegetables"
                      ],
                      [
                        "rolls/buns"
                      ]
                    ],
                    [
                      [
                        "shopping bags"
                      ],
                      [
                        "other vegetables"
                      ]
                    ],
                    [
                      [
                        "whole milk",
                        "tropical fruit"
                      ],
                      [
                        "other vegetables"
                      ]
                    ],
                    [
                      [
                        "whipped/sour cream"
                      ],
                      [
                        "other vegetables"
                      ]
                    ],
                    [
                      [
                        "bottled beer"
                      ],
                      [
                        "other vegetables"
                      ]
                    ],
                    [
                      [
                        "whole milk",
                        "soda"
                      ],
                      [
                        "rolls/buns"
                      ]
                    ],
                    [
                      [
                        "fruit/vegetable juice"
                      ],
                      [
                        "rolls/buns"
                      ]
                    ],
                    [
                      [
                        "whole milk",
                        "other vegetables"
                      ],
                      [
                        "rolls/buns"
                      ]
                    ],
                    [
                      [
                        "margarine"
                      ],
                      [
                        "other vegetables"
                      ]
                    ],
                    [
                      [
                        "curd"
                      ],
                      [
                        "other vegetables"
                      ]
                    ],
                    [
                      [
                        "yogurt"
                      ],
                      [
                        "other vegetables"
                      ]
                    ],
                    [
                      [
                        "beef"
                      ],
                      [
                        "other vegetables"
                      ]
                    ],
                    [
                      [
                        "pip fruit"
                      ],
                      [
                        "other vegetables"
                      ]
                    ],
                    [
                      [
                        "other vegetables",
                        "soda"
                      ],
                      [
                        "rolls/buns"
                      ]
                    ],
                    [
                      [
                        "fruit/vegetable juice"
                      ],
                      [
                        "other vegetables"
                      ]
                    ],
                    [
                      [
                        "pork"
                      ],
                      [
                        "other vegetables"
                      ]
                    ],
                    [
                      [
                        "rolls/buns"
                      ],
                      [
                        "other vegetables"
                      ]
                    ],
                    [
                      [
                        "citrus fruit"
                      ],
                      [
                        "other vegetables"
                      ]
                    ],
                    [
                      [
                        "whole milk"
                      ],
                      [
                        "other vegetables"
                      ]
                    ],
                    [
                      [
                        "curd"
                      ],
                      [
                        "rolls/buns"
                      ]
                    ],
                    [
                      [
                        "newspapers"
                      ],
                      [
                        "rolls/buns"
                      ]
                    ],
                    [
                      [
                        "shopping bags"
                      ],
                      [
                        "rolls/buns"
                      ]
                    ],
                    [
                      [
                        "domestic eggs"
                      ],
                      [
                        "other vegetables"
                      ]
                    ],
                    [
                      [
                        "root vegetables"
                      ],
                      [
                        "other vegetables"
                      ]
                    ],
                    [
                      [
                        "canned beer"
                      ],
                      [
                        "other vegetables"
                      ]
                    ],
                    [
                      [
                        "canned beer"
                      ],
                      [
                        "rolls/buns"
                      ]
                    ],
                    [
                      [
                        "pastry"
                      ],
                      [
                        "other vegetables"
                      ]
                    ],
                    [
                      [
                        "frankfurter"
                      ],
                      [
                        "rolls/buns"
                      ]
                    ],
                    [
                      [
                        "sausage"
                      ],
                      [
                        "rolls/buns"
                      ]
                    ],
                    [
                      [
                        "bottled beer"
                      ],
                      [
                        "rolls/buns"
                      ]
                    ],
                    [
                      [
                        "soda"
                      ],
                      [
                        "other vegetables"
                      ]
                    ],
                    [
                      [
                        "domestic eggs"
                      ],
                      [
                        "rolls/buns"
                      ]
                    ],
                    [
                      [
                        "pip fruit"
                      ],
                      [
                        "rolls/buns"
                      ]
                    ],
                    [
                      [
                        "root vegetables"
                      ],
                      [
                        "rolls/buns"
                      ]
                    ],
                    [
                      [
                        "yogurt"
                      ],
                      [
                        "rolls/buns"
                      ]
                    ],
                    [
                      [
                        "brown bread"
                      ],
                      [
                        "rolls/buns"
                      ]
                    ],
                    [
                      [
                        "pastry"
                      ],
                      [
                        "rolls/buns"
                      ]
                    ],
                    [
                      [
                        "tropical fruit"
                      ],
                      [
                        "other vegetables"
                      ]
                    ],
                    [
                      [
                        "whole milk"
                      ],
                      [
                        "rolls/buns"
                      ]
                    ],
                    [
                      [
                        "other vegetables"
                      ],
                      [
                        "rolls/buns"
                      ]
                    ],
                    [
                      [
                        "citrus fruit"
                      ],
                      [
                        "rolls/buns"
                      ]
                    ],
                    [
                      [
                        "shopping bags"
                      ],
                      [
                        "soda"
                      ]
                    ],
                    [
                      [
                        "soda"
                      ],
                      [
                        "rolls/buns"
                      ]
                    ],
                    [
                      [
                        "whipped/sour cream"
                      ],
                      [
                        "rolls/buns"
                      ]
                    ],
                    [
                      [
                        "tropical fruit"
                      ],
                      [
                        "rolls/buns"
                      ]
                    ],
                    [
                      [
                        "whole milk",
                        "other vegetables"
                      ],
                      [
                        "yogurt"
                      ]
                    ],
                    [
                      [
                        "sausage"
                      ],
                      [
                        "soda"
                      ]
                    ],
                    [
                      [
                        "frankfurter"
                      ],
                      [
                        "soda"
                      ]
                    ],
                    [
                      [
                        "bottled water"
                      ],
                      [
                        "rolls/buns"
                      ]
                    ],
                    [
                      [
                        "rolls/buns",
                        "whole milk"
                      ],
                      [
                        "yogurt"
                      ]
                    ],
                    [
                      [
                        "newspapers"
                      ],
                      [
                        "other vegetables"
                      ]
                    ],
                    [
                      [
                        "sausage"
                      ],
                      [
                        "yogurt"
                      ]
                    ],
                    [
                      [
                        "rolls/buns",
                        "whole milk"
                      ],
                      [
                        "soda"
                      ]
                    ],
                    [
                      [
                        "whole milk",
                        "other vegetables"
                      ],
                      [
                        "soda"
                      ]
                    ],
                    [
                      [
                        "whole milk",
                        "yogurt"
                      ],
                      [
                        "soda"
                      ]
                    ],
                    [
                      [
                        "whole milk",
                        "soda"
                      ],
                      [
                        "yogurt"
                      ]
                    ],
                    [
                      [
                        "rolls/buns",
                        "other vegetables"
                      ],
                      [
                        "soda"
                      ]
                    ],
                    [
                      [
                        "rolls/buns",
                        "other vegetables"
                      ],
                      [
                        "yogurt"
                      ]
                    ],
                    [
                      [
                        "bottled water"
                      ],
                      [
                        "soda"
                      ]
                    ],
                    [
                      [
                        "pastry"
                      ],
                      [
                        "soda"
                      ]
                    ],
                    [
                      [
                        "pip fruit"
                      ],
                      [
                        "soda"
                      ]
                    ],
                    [
                      [
                        "root vegetables"
                      ],
                      [
                        "soda"
                      ]
                    ],
                    [
                      [
                        "citrus fruit"
                      ],
                      [
                        "soda"
                      ]
                    ],
                    [
                      [
                        "tropical fruit"
                      ],
                      [
                        "soda"
                      ]
                    ],
                    [
                      [
                        "bottled beer"
                      ],
                      [
                        "soda"
                      ]
                    ],
                    [
                      [
                        "yogurt"
                      ],
                      [
                        "soda"
                      ]
                    ],
                    [
                      [
                        "rolls/buns"
                      ],
                      [
                        "soda"
                      ]
                    ],
                    [
                      [
                        "pip fruit"
                      ],
                      [
                        "yogurt"
                      ]
                    ],
                    [
                      [
                        "canned beer"
                      ],
                      [
                        "soda"
                      ]
                    ],
                    [
                      [
                        "whole milk"
                      ],
                      [
                        "soda"
                      ]
                    ],
                    [
                      [
                        "other vegetables"
                      ],
                      [
                        "soda"
                      ]
                    ],
                    [
                      [
                        "whole milk"
                      ],
                      [
                        "yogurt"
                      ]
                    ],
                    [
                      [
                        "pastry"
                      ],
                      [
                        "yogurt"
                      ]
                    ],
                    [
                      [
                        "shopping bags"
                      ],
                      [
                        "yogurt"
                      ]
                    ],
                    [
                      [
                        "tropical fruit"
                      ],
                      [
                        "yogurt"
                      ]
                    ],
                    [
                      [
                        "other vegetables"
                      ],
                      [
                        "yogurt"
                      ]
                    ],
                    [
                      [
                        "rolls/buns"
                      ],
                      [
                        "yogurt"
                      ]
                    ],
                    [
                      [
                        "citrus fruit"
                      ],
                      [
                        "yogurt"
                      ]
                    ],
                    [
                      [
                        "canned beer"
                      ],
                      [
                        "yogurt"
                      ]
                    ],
                    [
                      [
                        "soda"
                      ],
                      [
                        "yogurt"
                      ]
                    ],
                    [
                      [
                        "bottled water"
                      ],
                      [
                        "yogurt"
                      ]
                    ],
                    [
                      [
                        "root vegetables"
                      ],
                      [
                        "yogurt"
                      ]
                    ]
                  ],
                  "hovertemplate": "support=%{x}<br>confidence=%{y}<br>lift=%{z}<br>antecedents=%{customdata[0]}<br>consequents=%{customdata[1]}<br>antecedent support=%{marker.color}<extra></extra>",
                  "legendgroup": "",
                  "marker": {
                    "color": [
                      0.0939,
                      0.1203,
                      0.1113,
                      0.1467,
                      0.0975,
                      0.1242,
                      0.0913,
                      0.1198,
                      0.1683,
                      0.0929,
                      0.1588,
                      0.1026,
                      0.1195,
                      0.283,
                      0.1652,
                      0.1331,
                      0.1208,
                      0.2137,
                      0.1265,
                      0.206,
                      0.1398,
                      0.1547,
                      0.136,
                      0.1775,
                      0.3497,
                      0.1706,
                      0.117,
                      0.3766,
                      0.1324,
                      0.1124,
                      0.1249,
                      0.2337,
                      0.1855,
                      0.1006,
                      0.1375,
                      0.2306,
                      0.3135,
                      0.1149,
                      0.1506,
                      0.1113,
                      0.107,
                      0.1786,
                      0.1511,
                      0.1265,
                      0.206,
                      0.1375,
                      0.136,
                      0.2137,
                      0.1198,
                      0.1506,
                      0.1203,
                      0.1683,
                      0.1165,
                      0.1547,
                      0.1588,
                      0.1511,
                      0.1249,
                      0.1914,
                      0.117,
                      0.1208,
                      0.283,
                      0.1195,
                      0.1706,
                      0.1242,
                      0.1249,
                      0.1324,
                      0.3497,
                      0.1855,
                      0.4582,
                      0.1208,
                      0.1398,
                      0.1683,
                      0.1331,
                      0.2306,
                      0.1652,
                      0.1652,
                      0.1775,
                      0.1375,
                      0.206,
                      0.1588,
                      0.3135,
                      0.1331,
                      0.1706,
                      0.2306,
                      0.283,
                      0.136,
                      0.1775,
                      0.2337,
                      0.4582,
                      0.3766,
                      0.1855,
                      0.1683,
                      0.3135,
                      0.1547,
                      0.2337,
                      0.1914,
                      0.206,
                      0.1375,
                      0.2137,
                      0.1786,
                      0.1398,
                      0.206,
                      0.1786,
                      0.1914,
                      0.1506,
                      0.1511,
                      0.1467,
                      0.1467,
                      0.2137,
                      0.1775,
                      0.1706,
                      0.2306,
                      0.1855,
                      0.2337,
                      0.1588,
                      0.283,
                      0.3497,
                      0.1706,
                      0.1652,
                      0.4582,
                      0.3766,
                      0.4582,
                      0.1775,
                      0.1683,
                      0.2337,
                      0.3766,
                      0.3497,
                      0.1855,
                      0.1652,
                      0.3135,
                      0.2137,
                      0.2306
                    ],
                    "coloraxis": "coloraxis",
                    "opacity": 0.7,
                    "symbol": "circle"
                  },
                  "mode": "markers",
                  "name": "",
                  "scene": "scene",
                  "showlegend": false,
                  "x": [
                    0.0562,
                    0.0718,
                    0.0659,
                    0.0821,
                    0.0544,
                    0.0693,
                    0.0505,
                    0.0652,
                    0.0913,
                    0.0503,
                    0.0854,
                    0.0552,
                    0.0641,
                    0.1506,
                    0.0872,
                    0.0703,
                    0.0636,
                    0.1124,
                    0.0662,
                    0.107,
                    0.0723,
                    0.0798,
                    0.0698,
                    0.0911,
                    0.1786,
                    0.087,
                    0.0595,
                    0.1914,
                    0.067,
                    0.0562,
                    0.0623,
                    0.1165,
                    0.0924,
                    0.05,
                    0.068,
                    0.1131,
                    0.1511,
                    0.0552,
                    0.0718,
                    0.0523,
                    0.0503,
                    0.0821,
                    0.0693,
                    0.0572,
                    0.0929,
                    0.0611,
                    0.0598,
                    0.0939,
                    0.0526,
                    0.0659,
                    0.0523,
                    0.0731,
                    0.0505,
                    0.067,
                    0.0685,
                    0.0652,
                    0.0536,
                    0.0821,
                    0.05,
                    0.0516,
                    0.1203,
                    0.0508,
                    0.0723,
                    0.0526,
                    0.0526,
                    0.0557,
                    0.1467,
                    0.0775,
                    0.1914,
                    0.05,
                    0.0572,
                    0.0688,
                    0.0544,
                    0.0942,
                    0.0672,
                    0.0667,
                    0.0716,
                    0.0552,
                    0.0823,
                    0.0631,
                    0.1242,
                    0.0526,
                    0.0672,
                    0.0908,
                    0.1113,
                    0.0534,
                    0.0695,
                    0.0913,
                    0.1786,
                    0.1467,
                    0.0718,
                    0.0646,
                    0.1198,
                    0.0585,
                    0.0883,
                    0.0718,
                    0.0772,
                    0.0511,
                    0.0793,
                    0.0659,
                    0.0516,
                    0.0754,
                    0.0652,
                    0.0693,
                    0.0544,
                    0.0544,
                    0.0526,
                    0.0523,
                    0.0762,
                    0.0631,
                    0.0605,
                    0.0813,
                    0.0652,
                    0.0818,
                    0.0552,
                    0.0975,
                    0.1198,
                    0.0567,
                    0.0546,
                    0.1511,
                    0.1242,
                    0.1506,
                    0.058,
                    0.0549,
                    0.0757,
                    0.1203,
                    0.1113,
                    0.0582,
                    0.0518,
                    0.0975,
                    0.0664,
                    0.0716
                  ],
                  "y": [
                    0.5984,
                    0.597,
                    0.5922,
                    0.5594,
                    0.5579,
                    0.5579,
                    0.5534,
                    0.5439,
                    0.5427,
                    0.5414,
                    0.538,
                    0.5375,
                    0.5365,
                    0.5322,
                    0.528,
                    0.5279,
                    0.5265,
                    0.5258,
                    0.5233,
                    0.5193,
                    0.5174,
                    0.5158,
                    0.5132,
                    0.513,
                    0.5106,
                    0.5098,
                    0.5088,
                    0.5082,
                    0.5058,
                    0.5,
                    0.499,
                    0.4984,
                    0.4979,
                    0.4974,
                    0.4944,
                    0.4905,
                    0.482,
                    0.4799,
                    0.477,
                    0.47,
                    0.47,
                    0.4598,
                    0.4584,
                    0.4523,
                    0.4508,
                    0.444,
                    0.4396,
                    0.4394,
                    0.439,
                    0.4378,
                    0.435,
                    0.4345,
                    0.4339,
                    0.4328,
                    0.4313,
                    0.4312,
                    0.4292,
                    0.429,
                    0.4276,
                    0.4268,
                    0.4252,
                    0.4249,
                    0.4241,
                    0.4236,
                    0.4209,
                    0.4205,
                    0.4197,
                    0.4177,
                    0.4177,
                    0.414,
                    0.4092,
                    0.4085,
                    0.4085,
                    0.4082,
                    0.4068,
                    0.4037,
                    0.4032,
                    0.4011,
                    0.3998,
                    0.3974,
                    0.3961,
                    0.395,
                    0.394,
                    0.3938,
                    0.3935,
                    0.3925,
                    0.3916,
                    0.3908,
                    0.3897,
                    0.3896,
                    0.3873,
                    0.3841,
                    0.3822,
                    0.3781,
                    0.3776,
                    0.3753,
                    0.3748,
                    0.3713,
                    0.3709,
                    0.3693,
                    0.3688,
                    0.3661,
                    0.3649,
                    0.3619,
                    0.3612,
                    0.3599,
                    0.3584,
                    0.3566,
                    0.3565,
                    0.3555,
                    0.3549,
                    0.3526,
                    0.3513,
                    0.3502,
                    0.3473,
                    0.3445,
                    0.3426,
                    0.3323,
                    0.3307,
                    0.3298,
                    0.3297,
                    0.3287,
                    0.3266,
                    0.3262,
                    0.3238,
                    0.3195,
                    0.3184,
                    0.314,
                    0.3137,
                    0.311,
                    0.3109,
                    0.3103
                  ],
                  "z": [
                    1.3059,
                    1.303,
                    1.2924,
                    1.221,
                    1.2176,
                    1.2175,
                    1.2077,
                    1.1871,
                    1.1844,
                    1.1817,
                    1.1741,
                    1.1731,
                    1.1709,
                    1.1615,
                    1.1523,
                    1.1522,
                    1.1492,
                    1.1476,
                    1.1422,
                    1.1334,
                    1.1293,
                    1.1257,
                    1.1201,
                    1.1197,
                    1.1145,
                    1.1126,
                    1.1104,
                    1.1091,
                    1.104,
                    1.3277,
                    1.089,
                    1.0877,
                    1.0867,
                    1.0857,
                    1.079,
                    1.0706,
                    1.052,
                    1.0474,
                    1.2666,
                    1.2481,
                    1.2481,
                    1.2208,
                    1.2172,
                    1.2011,
                    1.197,
                    1.179,
                    1.1673,
                    1.1667,
                    1.1656,
                    1.2521,
                    1.244,
                    1.1536,
                    1.1522,
                    1.1493,
                    1.1453,
                    1.2333,
                    1.2273,
                    1.2268,
                    1.1355,
                    1.1332,
                    1.129,
                    1.1282,
                    1.126,
                    1.2113,
                    1.1177,
                    1.1167,
                    1.1143,
                    1.1091,
                    1.1091,
                    1.184,
                    1.1702,
                    1.1684,
                    1.0846,
                    1.084,
                    1.0803,
                    1.1546,
                    1.0706,
                    1.1471,
                    1.1432,
                    1.1366,
                    1.0517,
                    1.1296,
                    1.1267,
                    1.1261,
                    1.1253,
                    1.1224,
                    1.12,
                    1.0376,
                    1.1145,
                    1.1143,
                    1.1076,
                    1.2254,
                    1.0929,
                    1.0813,
                    1.0799,
                    1.3264,
                    1.1957,
                    1.1843,
                    1.0609,
                    1.3049,
                    0.9793,
                    1.2939,
                    1.1641,
                    1.1545,
                    1.152,
                    1.272,
                    1.1432,
                    1.2604,
                    1.1373,
                    1.134,
                    1.132,
                    1.1248,
                    1.1206,
                    1.117,
                    1.1079,
                    1.099,
                    1.0929,
                    1.1745,
                    1.055,
                    1.052,
                    1.0517,
                    1.1615,
                    1.1542,
                    1.1529,
                    1.1444,
                    1.129,
                    1.1253,
                    1.1096,
                    1.1085,
                    1.099,
                    1.0988,
                    1.0968
                  ],
                  "type": "scatter3d"
                }
              ],
              "layout": {
                "template": {
                  "data": {
                    "histogram2dcontour": [
                      {
                        "type": "histogram2dcontour",
                        "colorbar": {
                          "outlinewidth": 0,
                          "ticks": ""
                        },
                        "colorscale": [
                          [
                            0,
                            "#0d0887"
                          ],
                          [
                            0.1111111111111111,
                            "#46039f"
                          ],
                          [
                            0.2222222222222222,
                            "#7201a8"
                          ],
                          [
                            0.3333333333333333,
                            "#9c179e"
                          ],
                          [
                            0.4444444444444444,
                            "#bd3786"
                          ],
                          [
                            0.5555555555555556,
                            "#d8576b"
                          ],
                          [
                            0.6666666666666666,
                            "#ed7953"
                          ],
                          [
                            0.7777777777777778,
                            "#fb9f3a"
                          ],
                          [
                            0.8888888888888888,
                            "#fdca26"
                          ],
                          [
                            1,
                            "#f0f921"
                          ]
                        ]
                      }
                    ],
                    "choropleth": [
                      {
                        "type": "choropleth",
                        "colorbar": {
                          "outlinewidth": 0,
                          "ticks": ""
                        }
                      }
                    ],
                    "histogram2d": [
                      {
                        "type": "histogram2d",
                        "colorbar": {
                          "outlinewidth": 0,
                          "ticks": ""
                        },
                        "colorscale": [
                          [
                            0,
                            "#0d0887"
                          ],
                          [
                            0.1111111111111111,
                            "#46039f"
                          ],
                          [
                            0.2222222222222222,
                            "#7201a8"
                          ],
                          [
                            0.3333333333333333,
                            "#9c179e"
                          ],
                          [
                            0.4444444444444444,
                            "#bd3786"
                          ],
                          [
                            0.5555555555555556,
                            "#d8576b"
                          ],
                          [
                            0.6666666666666666,
                            "#ed7953"
                          ],
                          [
                            0.7777777777777778,
                            "#fb9f3a"
                          ],
                          [
                            0.8888888888888888,
                            "#fdca26"
                          ],
                          [
                            1,
                            "#f0f921"
                          ]
                        ]
                      }
                    ],
                    "heatmap": [
                      {
                        "type": "heatmap",
                        "colorbar": {
                          "outlinewidth": 0,
                          "ticks": ""
                        },
                        "colorscale": [
                          [
                            0,
                            "#0d0887"
                          ],
                          [
                            0.1111111111111111,
                            "#46039f"
                          ],
                          [
                            0.2222222222222222,
                            "#7201a8"
                          ],
                          [
                            0.3333333333333333,
                            "#9c179e"
                          ],
                          [
                            0.4444444444444444,
                            "#bd3786"
                          ],
                          [
                            0.5555555555555556,
                            "#d8576b"
                          ],
                          [
                            0.6666666666666666,
                            "#ed7953"
                          ],
                          [
                            0.7777777777777778,
                            "#fb9f3a"
                          ],
                          [
                            0.8888888888888888,
                            "#fdca26"
                          ],
                          [
                            1,
                            "#f0f921"
                          ]
                        ]
                      }
                    ],
                    "heatmapgl": [
                      {
                        "type": "heatmapgl",
                        "colorbar": {
                          "outlinewidth": 0,
                          "ticks": ""
                        },
                        "colorscale": [
                          [
                            0,
                            "#0d0887"
                          ],
                          [
                            0.1111111111111111,
                            "#46039f"
                          ],
                          [
                            0.2222222222222222,
                            "#7201a8"
                          ],
                          [
                            0.3333333333333333,
                            "#9c179e"
                          ],
                          [
                            0.4444444444444444,
                            "#bd3786"
                          ],
                          [
                            0.5555555555555556,
                            "#d8576b"
                          ],
                          [
                            0.6666666666666666,
                            "#ed7953"
                          ],
                          [
                            0.7777777777777778,
                            "#fb9f3a"
                          ],
                          [
                            0.8888888888888888,
                            "#fdca26"
                          ],
                          [
                            1,
                            "#f0f921"
                          ]
                        ]
                      }
                    ],
                    "contourcarpet": [
                      {
                        "type": "contourcarpet",
                        "colorbar": {
                          "outlinewidth": 0,
                          "ticks": ""
                        }
                      }
                    ],
                    "contour": [
                      {
                        "type": "contour",
                        "colorbar": {
                          "outlinewidth": 0,
                          "ticks": ""
                        },
                        "colorscale": [
                          [
                            0,
                            "#0d0887"
                          ],
                          [
                            0.1111111111111111,
                            "#46039f"
                          ],
                          [
                            0.2222222222222222,
                            "#7201a8"
                          ],
                          [
                            0.3333333333333333,
                            "#9c179e"
                          ],
                          [
                            0.4444444444444444,
                            "#bd3786"
                          ],
                          [
                            0.5555555555555556,
                            "#d8576b"
                          ],
                          [
                            0.6666666666666666,
                            "#ed7953"
                          ],
                          [
                            0.7777777777777778,
                            "#fb9f3a"
                          ],
                          [
                            0.8888888888888888,
                            "#fdca26"
                          ],
                          [
                            1,
                            "#f0f921"
                          ]
                        ]
                      }
                    ],
                    "surface": [
                      {
                        "type": "surface",
                        "colorbar": {
                          "outlinewidth": 0,
                          "ticks": ""
                        },
                        "colorscale": [
                          [
                            0,
                            "#0d0887"
                          ],
                          [
                            0.1111111111111111,
                            "#46039f"
                          ],
                          [
                            0.2222222222222222,
                            "#7201a8"
                          ],
                          [
                            0.3333333333333333,
                            "#9c179e"
                          ],
                          [
                            0.4444444444444444,
                            "#bd3786"
                          ],
                          [
                            0.5555555555555556,
                            "#d8576b"
                          ],
                          [
                            0.6666666666666666,
                            "#ed7953"
                          ],
                          [
                            0.7777777777777778,
                            "#fb9f3a"
                          ],
                          [
                            0.8888888888888888,
                            "#fdca26"
                          ],
                          [
                            1,
                            "#f0f921"
                          ]
                        ]
                      }
                    ],
                    "mesh3d": [
                      {
                        "type": "mesh3d",
                        "colorbar": {
                          "outlinewidth": 0,
                          "ticks": ""
                        }
                      }
                    ],
                    "scatter": [
                      {
                        "fillpattern": {
                          "fillmode": "overlay",
                          "size": 10,
                          "solidity": 0.2
                        },
                        "type": "scatter"
                      }
                    ],
                    "parcoords": [
                      {
                        "type": "parcoords",
                        "line": {
                          "colorbar": {
                            "outlinewidth": 0,
                            "ticks": ""
                          }
                        }
                      }
                    ],
                    "scatterpolargl": [
                      {
                        "type": "scatterpolargl",
                        "marker": {
                          "colorbar": {
                            "outlinewidth": 0,
                            "ticks": ""
                          }
                        }
                      }
                    ],
                    "bar": [
                      {
                        "error_x": {
                          "color": "#2a3f5f"
                        },
                        "error_y": {
                          "color": "#2a3f5f"
                        },
                        "marker": {
                          "line": {
                            "color": "#E5ECF6",
                            "width": 0.5
                          },
                          "pattern": {
                            "fillmode": "overlay",
                            "size": 10,
                            "solidity": 0.2
                          }
                        },
                        "type": "bar"
                      }
                    ],
                    "scattergeo": [
                      {
                        "type": "scattergeo",
                        "marker": {
                          "colorbar": {
                            "outlinewidth": 0,
                            "ticks": ""
                          }
                        }
                      }
                    ],
                    "scatterpolar": [
                      {
                        "type": "scatterpolar",
                        "marker": {
                          "colorbar": {
                            "outlinewidth": 0,
                            "ticks": ""
                          }
                        }
                      }
                    ],
                    "histogram": [
                      {
                        "marker": {
                          "pattern": {
                            "fillmode": "overlay",
                            "size": 10,
                            "solidity": 0.2
                          }
                        },
                        "type": "histogram"
                      }
                    ],
                    "scattergl": [
                      {
                        "type": "scattergl",
                        "marker": {
                          "colorbar": {
                            "outlinewidth": 0,
                            "ticks": ""
                          }
                        }
                      }
                    ],
                    "scatter3d": [
                      {
                        "type": "scatter3d",
                        "line": {
                          "colorbar": {
                            "outlinewidth": 0,
                            "ticks": ""
                          }
                        },
                        "marker": {
                          "colorbar": {
                            "outlinewidth": 0,
                            "ticks": ""
                          }
                        }
                      }
                    ],
                    "scattermapbox": [
                      {
                        "type": "scattermapbox",
                        "marker": {
                          "colorbar": {
                            "outlinewidth": 0,
                            "ticks": ""
                          }
                        }
                      }
                    ],
                    "scatterternary": [
                      {
                        "type": "scatterternary",
                        "marker": {
                          "colorbar": {
                            "outlinewidth": 0,
                            "ticks": ""
                          }
                        }
                      }
                    ],
                    "scattercarpet": [
                      {
                        "type": "scattercarpet",
                        "marker": {
                          "colorbar": {
                            "outlinewidth": 0,
                            "ticks": ""
                          }
                        }
                      }
                    ],
                    "carpet": [
                      {
                        "aaxis": {
                          "endlinecolor": "#2a3f5f",
                          "gridcolor": "white",
                          "linecolor": "white",
                          "minorgridcolor": "white",
                          "startlinecolor": "#2a3f5f"
                        },
                        "baxis": {
                          "endlinecolor": "#2a3f5f",
                          "gridcolor": "white",
                          "linecolor": "white",
                          "minorgridcolor": "white",
                          "startlinecolor": "#2a3f5f"
                        },
                        "type": "carpet"
                      }
                    ],
                    "table": [
                      {
                        "cells": {
                          "fill": {
                            "color": "#EBF0F8"
                          },
                          "line": {
                            "color": "white"
                          }
                        },
                        "header": {
                          "fill": {
                            "color": "#C8D4E3"
                          },
                          "line": {
                            "color": "white"
                          }
                        },
                        "type": "table"
                      }
                    ],
                    "barpolar": [
                      {
                        "marker": {
                          "line": {
                            "color": "#E5ECF6",
                            "width": 0.5
                          },
                          "pattern": {
                            "fillmode": "overlay",
                            "size": 10,
                            "solidity": 0.2
                          }
                        },
                        "type": "barpolar"
                      }
                    ],
                    "pie": [
                      {
                        "automargin": true,
                        "type": "pie"
                      }
                    ]
                  },
                  "layout": {
                    "autotypenumbers": "strict",
                    "colorway": [
                      "#636efa",
                      "#EF553B",
                      "#00cc96",
                      "#ab63fa",
                      "#FFA15A",
                      "#19d3f3",
                      "#FF6692",
                      "#B6E880",
                      "#FF97FF",
                      "#FECB52"
                    ],
                    "font": {
                      "color": "#2a3f5f"
                    },
                    "hovermode": "closest",
                    "hoverlabel": {
                      "align": "left"
                    },
                    "paper_bgcolor": "white",
                    "plot_bgcolor": "#E5ECF6",
                    "polar": {
                      "bgcolor": "#E5ECF6",
                      "angularaxis": {
                        "gridcolor": "white",
                        "linecolor": "white",
                        "ticks": ""
                      },
                      "radialaxis": {
                        "gridcolor": "white",
                        "linecolor": "white",
                        "ticks": ""
                      }
                    },
                    "ternary": {
                      "bgcolor": "#E5ECF6",
                      "aaxis": {
                        "gridcolor": "white",
                        "linecolor": "white",
                        "ticks": ""
                      },
                      "baxis": {
                        "gridcolor": "white",
                        "linecolor": "white",
                        "ticks": ""
                      },
                      "caxis": {
                        "gridcolor": "white",
                        "linecolor": "white",
                        "ticks": ""
                      }
                    },
                    "coloraxis": {
                      "colorbar": {
                        "outlinewidth": 0,
                        "ticks": ""
                      }
                    },
                    "colorscale": {
                      "sequential": [
                        [
                          0,
                          "#0d0887"
                        ],
                        [
                          0.1111111111111111,
                          "#46039f"
                        ],
                        [
                          0.2222222222222222,
                          "#7201a8"
                        ],
                        [
                          0.3333333333333333,
                          "#9c179e"
                        ],
                        [
                          0.4444444444444444,
                          "#bd3786"
                        ],
                        [
                          0.5555555555555556,
                          "#d8576b"
                        ],
                        [
                          0.6666666666666666,
                          "#ed7953"
                        ],
                        [
                          0.7777777777777778,
                          "#fb9f3a"
                        ],
                        [
                          0.8888888888888888,
                          "#fdca26"
                        ],
                        [
                          1,
                          "#f0f921"
                        ]
                      ],
                      "sequentialminus": [
                        [
                          0,
                          "#0d0887"
                        ],
                        [
                          0.1111111111111111,
                          "#46039f"
                        ],
                        [
                          0.2222222222222222,
                          "#7201a8"
                        ],
                        [
                          0.3333333333333333,
                          "#9c179e"
                        ],
                        [
                          0.4444444444444444,
                          "#bd3786"
                        ],
                        [
                          0.5555555555555556,
                          "#d8576b"
                        ],
                        [
                          0.6666666666666666,
                          "#ed7953"
                        ],
                        [
                          0.7777777777777778,
                          "#fb9f3a"
                        ],
                        [
                          0.8888888888888888,
                          "#fdca26"
                        ],
                        [
                          1,
                          "#f0f921"
                        ]
                      ],
                      "diverging": [
                        [
                          0,
                          "#8e0152"
                        ],
                        [
                          0.1,
                          "#c51b7d"
                        ],
                        [
                          0.2,
                          "#de77ae"
                        ],
                        [
                          0.3,
                          "#f1b6da"
                        ],
                        [
                          0.4,
                          "#fde0ef"
                        ],
                        [
                          0.5,
                          "#f7f7f7"
                        ],
                        [
                          0.6,
                          "#e6f5d0"
                        ],
                        [
                          0.7,
                          "#b8e186"
                        ],
                        [
                          0.8,
                          "#7fbc41"
                        ],
                        [
                          0.9,
                          "#4d9221"
                        ],
                        [
                          1,
                          "#276419"
                        ]
                      ]
                    },
                    "xaxis": {
                      "gridcolor": "white",
                      "linecolor": "white",
                      "ticks": "",
                      "title": {
                        "standoff": 15
                      },
                      "zerolinecolor": "white",
                      "automargin": true,
                      "zerolinewidth": 2
                    },
                    "yaxis": {
                      "gridcolor": "white",
                      "linecolor": "white",
                      "ticks": "",
                      "title": {
                        "standoff": 15
                      },
                      "zerolinecolor": "white",
                      "automargin": true,
                      "zerolinewidth": 2
                    },
                    "scene": {
                      "xaxis": {
                        "backgroundcolor": "#E5ECF6",
                        "gridcolor": "white",
                        "linecolor": "white",
                        "showbackground": true,
                        "ticks": "",
                        "zerolinecolor": "white",
                        "gridwidth": 2
                      },
                      "yaxis": {
                        "backgroundcolor": "#E5ECF6",
                        "gridcolor": "white",
                        "linecolor": "white",
                        "showbackground": true,
                        "ticks": "",
                        "zerolinecolor": "white",
                        "gridwidth": 2
                      },
                      "zaxis": {
                        "backgroundcolor": "#E5ECF6",
                        "gridcolor": "white",
                        "linecolor": "white",
                        "showbackground": true,
                        "ticks": "",
                        "zerolinecolor": "white",
                        "gridwidth": 2
                      }
                    },
                    "shapedefaults": {
                      "line": {
                        "color": "#2a3f5f"
                      }
                    },
                    "annotationdefaults": {
                      "arrowcolor": "#2a3f5f",
                      "arrowhead": 0,
                      "arrowwidth": 1
                    },
                    "geo": {
                      "bgcolor": "white",
                      "landcolor": "#E5ECF6",
                      "subunitcolor": "white",
                      "showland": true,
                      "showlakes": true,
                      "lakecolor": "white"
                    },
                    "title": {
                      "x": 0.05
                    },
                    "mapbox": {
                      "style": "light"
                    }
                  }
                },
                "scene": {
                  "domain": {
                    "x": [
                      0,
                      1
                    ],
                    "y": [
                      0,
                      1
                    ]
                  },
                  "xaxis": {
                    "title": {
                      "text": "support"
                    }
                  },
                  "yaxis": {
                    "title": {
                      "text": "confidence"
                    }
                  },
                  "zaxis": {
                    "title": {
                      "text": "lift"
                    }
                  }
                },
                "coloraxis": {
                  "colorbar": {
                    "title": {
                      "text": "antecedent support"
                    }
                  },
                  "colorscale": [
                    [
                      0,
                      "#0d0887"
                    ],
                    [
                      0.1111111111111111,
                      "#46039f"
                    ],
                    [
                      0.2222222222222222,
                      "#7201a8"
                    ],
                    [
                      0.3333333333333333,
                      "#9c179e"
                    ],
                    [
                      0.4444444444444444,
                      "#bd3786"
                    ],
                    [
                      0.5555555555555556,
                      "#d8576b"
                    ],
                    [
                      0.6666666666666666,
                      "#ed7953"
                    ],
                    [
                      0.7777777777777778,
                      "#fb9f3a"
                    ],
                    [
                      0.8888888888888888,
                      "#fdca26"
                    ],
                    [
                      1,
                      "#f0f921"
                    ]
                  ]
                },
                "legend": {
                  "tracegroupgap": 0
                },
                "title": {
                  "text": "3d Plot for Rule Mining"
                },
                "height": 800,
                "width": 900
              },
              "config": {
                "plotlyServerURL": "https://plot.ly"
              }
            },
            "text/html": [
              "<div>                            <div id=\"35b30a8d-e09d-49a3-9596-c113af8333f3\" class=\"plotly-graph-div\" style=\"height:800px; width:900px;\"></div>            <script type=\"text/javascript\">                require([\"plotly\"], function(Plotly) {                    window.PLOTLYENV=window.PLOTLYENV || {};                                    if (document.getElementById(\"35b30a8d-e09d-49a3-9596-c113af8333f3\")) {                    Plotly.newPlot(                        \"35b30a8d-e09d-49a3-9596-c113af8333f3\",                        [{\"customdata\":[[[\"bottled water\",\"other vegetables\"],[\"whole milk\"]],[[\"yogurt\",\"other vegetables\"],[\"whole milk\"]],[[\"rolls\\u002fbuns\",\"yogurt\"],[\"whole milk\"]],[[\"rolls\\u002fbuns\",\"other vegetables\"],[\"whole milk\"]],[[\"yogurt\",\"soda\"],[\"whole milk\"]],[[\"other vegetables\",\"soda\"],[\"whole milk\"]],[[\"other vegetables\",\"tropical fruit\"],[\"whole milk\"]],[[\"rolls\\u002fbuns\",\"soda\"],[\"whole milk\"]],[[\"shopping bags\"],[\"whole milk\"]],[[\"sausage\",\"other vegetables\"],[\"whole milk\"]],[[\"bottled beer\"],[\"whole milk\"]],[[\"frozen vegetables\"],[\"whole milk\"]],[[\"beef\"],[\"whole milk\"]],[[\"yogurt\"],[\"whole milk\"]],[[\"canned beer\"],[\"whole milk\"]],[[\"domestic eggs\"],[\"whole milk\"]],[[\"curd\"],[\"whole milk\"]],[[\"bottled water\"],[\"whole milk\"]],[[\"butter\"],[\"whole milk\"]],[[\"sausage\"],[\"whole milk\"]],[[\"newspapers\"],[\"whole milk\"]],[[\"whipped\\u002fsour cream\"],[\"whole milk\"]],[[\"brown bread\"],[\"whole milk\"]],[[\"pastry\"],[\"whole milk\"]],[[\"rolls\\u002fbuns\"],[\"whole milk\"]],[[\"pip fruit\"],[\"whole milk\"]],[[\"margarine\"],[\"whole milk\"]],[[\"other vegetables\"],[\"whole milk\"]],[[\"pork\"],[\"whole milk\"]],[[\"bottled water\",\"whole milk\"],[\"other vegetables\"]],[[\"fruit\\u002fvegetable juice\"],[\"whole milk\"]],[[\"tropical fruit\"],[\"whole milk\"]],[[\"citrus fruit\"],[\"whole milk\"]],[[\"chicken\"],[\"whole milk\"]],[[\"frankfurter\"],[\"whole milk\"]],[[\"root vegetables\"],[\"whole milk\"]],[[\"soda\"],[\"whole milk\"]],[[\"coffee\"],[\"whole milk\"]],[[\"whole milk\",\"yogurt\"],[\"other vegetables\"]],[[\"rolls\\u002fbuns\",\"yogurt\"],[\"other vegetables\"]],[[\"sausage\",\"whole milk\"],[\"other vegetables\"]],[[\"rolls\\u002fbuns\",\"whole milk\"],[\"other vegetables\"]],[[\"whole milk\",\"soda\"],[\"other vegetables\"]],[[\"butter\"],[\"other vegetables\"]],[[\"sausage\"],[\"other vegetables\"]],[[\"frankfurter\"],[\"other vegetables\"]],[[\"brown bread\"],[\"other vegetables\"]],[[\"bottled water\"],[\"other vegetables\"]],[[\"rolls\\u002fbuns\",\"soda\"],[\"other vegetables\"]],[[\"whole milk\",\"yogurt\"],[\"rolls\\u002fbuns\"]],[[\"yogurt\",\"other vegetables\"],[\"rolls\\u002fbuns\"]],[[\"shopping bags\"],[\"other vegetables\"]],[[\"whole milk\",\"tropical fruit\"],[\"other vegetables\"]],[[\"whipped\\u002fsour cream\"],[\"other vegetables\"]],[[\"bottled beer\"],[\"other vegetables\"]],[[\"whole milk\",\"soda\"],[\"rolls\\u002fbuns\"]],[[\"fruit\\u002fvegetable juice\"],[\"rolls\\u002fbuns\"]],[[\"whole milk\",\"other vegetables\"],[\"rolls\\u002fbuns\"]],[[\"margarine\"],[\"other vegetables\"]],[[\"curd\"],[\"other vegetables\"]],[[\"yogurt\"],[\"other vegetables\"]],[[\"beef\"],[\"other vegetables\"]],[[\"pip fruit\"],[\"other vegetables\"]],[[\"other vegetables\",\"soda\"],[\"rolls\\u002fbuns\"]],[[\"fruit\\u002fvegetable juice\"],[\"other vegetables\"]],[[\"pork\"],[\"other vegetables\"]],[[\"rolls\\u002fbuns\"],[\"other vegetables\"]],[[\"citrus fruit\"],[\"other vegetables\"]],[[\"whole milk\"],[\"other vegetables\"]],[[\"curd\"],[\"rolls\\u002fbuns\"]],[[\"newspapers\"],[\"rolls\\u002fbuns\"]],[[\"shopping bags\"],[\"rolls\\u002fbuns\"]],[[\"domestic eggs\"],[\"other vegetables\"]],[[\"root vegetables\"],[\"other vegetables\"]],[[\"canned beer\"],[\"other vegetables\"]],[[\"canned beer\"],[\"rolls\\u002fbuns\"]],[[\"pastry\"],[\"other vegetables\"]],[[\"frankfurter\"],[\"rolls\\u002fbuns\"]],[[\"sausage\"],[\"rolls\\u002fbuns\"]],[[\"bottled beer\"],[\"rolls\\u002fbuns\"]],[[\"soda\"],[\"other vegetables\"]],[[\"domestic eggs\"],[\"rolls\\u002fbuns\"]],[[\"pip fruit\"],[\"rolls\\u002fbuns\"]],[[\"root vegetables\"],[\"rolls\\u002fbuns\"]],[[\"yogurt\"],[\"rolls\\u002fbuns\"]],[[\"brown bread\"],[\"rolls\\u002fbuns\"]],[[\"pastry\"],[\"rolls\\u002fbuns\"]],[[\"tropical fruit\"],[\"other vegetables\"]],[[\"whole milk\"],[\"rolls\\u002fbuns\"]],[[\"other vegetables\"],[\"rolls\\u002fbuns\"]],[[\"citrus fruit\"],[\"rolls\\u002fbuns\"]],[[\"shopping bags\"],[\"soda\"]],[[\"soda\"],[\"rolls\\u002fbuns\"]],[[\"whipped\\u002fsour cream\"],[\"rolls\\u002fbuns\"]],[[\"tropical fruit\"],[\"rolls\\u002fbuns\"]],[[\"whole milk\",\"other vegetables\"],[\"yogurt\"]],[[\"sausage\"],[\"soda\"]],[[\"frankfurter\"],[\"soda\"]],[[\"bottled water\"],[\"rolls\\u002fbuns\"]],[[\"rolls\\u002fbuns\",\"whole milk\"],[\"yogurt\"]],[[\"newspapers\"],[\"other vegetables\"]],[[\"sausage\"],[\"yogurt\"]],[[\"rolls\\u002fbuns\",\"whole milk\"],[\"soda\"]],[[\"whole milk\",\"other vegetables\"],[\"soda\"]],[[\"whole milk\",\"yogurt\"],[\"soda\"]],[[\"whole milk\",\"soda\"],[\"yogurt\"]],[[\"rolls\\u002fbuns\",\"other vegetables\"],[\"soda\"]],[[\"rolls\\u002fbuns\",\"other vegetables\"],[\"yogurt\"]],[[\"bottled water\"],[\"soda\"]],[[\"pastry\"],[\"soda\"]],[[\"pip fruit\"],[\"soda\"]],[[\"root vegetables\"],[\"soda\"]],[[\"citrus fruit\"],[\"soda\"]],[[\"tropical fruit\"],[\"soda\"]],[[\"bottled beer\"],[\"soda\"]],[[\"yogurt\"],[\"soda\"]],[[\"rolls\\u002fbuns\"],[\"soda\"]],[[\"pip fruit\"],[\"yogurt\"]],[[\"canned beer\"],[\"soda\"]],[[\"whole milk\"],[\"soda\"]],[[\"other vegetables\"],[\"soda\"]],[[\"whole milk\"],[\"yogurt\"]],[[\"pastry\"],[\"yogurt\"]],[[\"shopping bags\"],[\"yogurt\"]],[[\"tropical fruit\"],[\"yogurt\"]],[[\"other vegetables\"],[\"yogurt\"]],[[\"rolls\\u002fbuns\"],[\"yogurt\"]],[[\"citrus fruit\"],[\"yogurt\"]],[[\"canned beer\"],[\"yogurt\"]],[[\"soda\"],[\"yogurt\"]],[[\"bottled water\"],[\"yogurt\"]],[[\"root vegetables\"],[\"yogurt\"]]],\"hovertemplate\":\"support=%{x}\\u003cbr\\u003econfidence=%{y}\\u003cbr\\u003elift=%{z}\\u003cbr\\u003eantecedents=%{customdata[0]}\\u003cbr\\u003econsequents=%{customdata[1]}\\u003cbr\\u003eantecedent support=%{marker.color}\\u003cextra\\u003e\\u003c\\u002fextra\\u003e\",\"legendgroup\":\"\",\"marker\":{\"color\":[0.0939,0.1203,0.1113,0.1467,0.0975,0.1242,0.0913,0.1198,0.1683,0.0929,0.1588,0.1026,0.1195,0.283,0.1652,0.1331,0.1208,0.2137,0.1265,0.206,0.1398,0.1547,0.136,0.1775,0.3497,0.1706,0.117,0.3766,0.1324,0.1124,0.1249,0.2337,0.1855,0.1006,0.1375,0.2306,0.3135,0.1149,0.1506,0.1113,0.107,0.1786,0.1511,0.1265,0.206,0.1375,0.136,0.2137,0.1198,0.1506,0.1203,0.1683,0.1165,0.1547,0.1588,0.1511,0.1249,0.1914,0.117,0.1208,0.283,0.1195,0.1706,0.1242,0.1249,0.1324,0.3497,0.1855,0.4582,0.1208,0.1398,0.1683,0.1331,0.2306,0.1652,0.1652,0.1775,0.1375,0.206,0.1588,0.3135,0.1331,0.1706,0.2306,0.283,0.136,0.1775,0.2337,0.4582,0.3766,0.1855,0.1683,0.3135,0.1547,0.2337,0.1914,0.206,0.1375,0.2137,0.1786,0.1398,0.206,0.1786,0.1914,0.1506,0.1511,0.1467,0.1467,0.2137,0.1775,0.1706,0.2306,0.1855,0.2337,0.1588,0.283,0.3497,0.1706,0.1652,0.4582,0.3766,0.4582,0.1775,0.1683,0.2337,0.3766,0.3497,0.1855,0.1652,0.3135,0.2137,0.2306],\"coloraxis\":\"coloraxis\",\"opacity\":0.7,\"symbol\":\"circle\"},\"mode\":\"markers\",\"name\":\"\",\"scene\":\"scene\",\"showlegend\":false,\"x\":[0.0562,0.0718,0.0659,0.0821,0.0544,0.0693,0.0505,0.0652,0.0913,0.0503,0.0854,0.0552,0.0641,0.1506,0.0872,0.0703,0.0636,0.1124,0.0662,0.107,0.0723,0.0798,0.0698,0.0911,0.1786,0.087,0.0595,0.1914,0.067,0.0562,0.0623,0.1165,0.0924,0.05,0.068,0.1131,0.1511,0.0552,0.0718,0.0523,0.0503,0.0821,0.0693,0.0572,0.0929,0.0611,0.0598,0.0939,0.0526,0.0659,0.0523,0.0731,0.0505,0.067,0.0685,0.0652,0.0536,0.0821,0.05,0.0516,0.1203,0.0508,0.0723,0.0526,0.0526,0.0557,0.1467,0.0775,0.1914,0.05,0.0572,0.0688,0.0544,0.0942,0.0672,0.0667,0.0716,0.0552,0.0823,0.0631,0.1242,0.0526,0.0672,0.0908,0.1113,0.0534,0.0695,0.0913,0.1786,0.1467,0.0718,0.0646,0.1198,0.0585,0.0883,0.0718,0.0772,0.0511,0.0793,0.0659,0.0516,0.0754,0.0652,0.0693,0.0544,0.0544,0.0526,0.0523,0.0762,0.0631,0.0605,0.0813,0.0652,0.0818,0.0552,0.0975,0.1198,0.0567,0.0546,0.1511,0.1242,0.1506,0.058,0.0549,0.0757,0.1203,0.1113,0.0582,0.0518,0.0975,0.0664,0.0716],\"y\":[0.5984,0.597,0.5922,0.5594,0.5579,0.5579,0.5534,0.5439,0.5427,0.5414,0.538,0.5375,0.5365,0.5322,0.528,0.5279,0.5265,0.5258,0.5233,0.5193,0.5174,0.5158,0.5132,0.513,0.5106,0.5098,0.5088,0.5082,0.5058,0.5,0.499,0.4984,0.4979,0.4974,0.4944,0.4905,0.482,0.4799,0.477,0.47,0.47,0.4598,0.4584,0.4523,0.4508,0.444,0.4396,0.4394,0.439,0.4378,0.435,0.4345,0.4339,0.4328,0.4313,0.4312,0.4292,0.429,0.4276,0.4268,0.4252,0.4249,0.4241,0.4236,0.4209,0.4205,0.4197,0.4177,0.4177,0.414,0.4092,0.4085,0.4085,0.4082,0.4068,0.4037,0.4032,0.4011,0.3998,0.3974,0.3961,0.395,0.394,0.3938,0.3935,0.3925,0.3916,0.3908,0.3897,0.3896,0.3873,0.3841,0.3822,0.3781,0.3776,0.3753,0.3748,0.3713,0.3709,0.3693,0.3688,0.3661,0.3649,0.3619,0.3612,0.3599,0.3584,0.3566,0.3565,0.3555,0.3549,0.3526,0.3513,0.3502,0.3473,0.3445,0.3426,0.3323,0.3307,0.3298,0.3297,0.3287,0.3266,0.3262,0.3238,0.3195,0.3184,0.314,0.3137,0.311,0.3109,0.3103],\"z\":[1.3059,1.303,1.2924,1.221,1.2176,1.2175,1.2077,1.1871,1.1844,1.1817,1.1741,1.1731,1.1709,1.1615,1.1523,1.1522,1.1492,1.1476,1.1422,1.1334,1.1293,1.1257,1.1201,1.1197,1.1145,1.1126,1.1104,1.1091,1.104,1.3277,1.089,1.0877,1.0867,1.0857,1.079,1.0706,1.052,1.0474,1.2666,1.2481,1.2481,1.2208,1.2172,1.2011,1.197,1.179,1.1673,1.1667,1.1656,1.2521,1.244,1.1536,1.1522,1.1493,1.1453,1.2333,1.2273,1.2268,1.1355,1.1332,1.129,1.1282,1.126,1.2113,1.1177,1.1167,1.1143,1.1091,1.1091,1.184,1.1702,1.1684,1.0846,1.084,1.0803,1.1546,1.0706,1.1471,1.1432,1.1366,1.0517,1.1296,1.1267,1.1261,1.1253,1.1224,1.12,1.0376,1.1145,1.1143,1.1076,1.2254,1.0929,1.0813,1.0799,1.3264,1.1957,1.1843,1.0609,1.3049,0.9793,1.2939,1.1641,1.1545,1.152,1.272,1.1432,1.2604,1.1373,1.134,1.132,1.1248,1.1206,1.117,1.1079,1.099,1.0929,1.1745,1.055,1.052,1.0517,1.1615,1.1542,1.1529,1.1444,1.129,1.1253,1.1096,1.1085,1.099,1.0988,1.0968],\"type\":\"scatter3d\"}],                        {\"template\":{\"data\":{\"histogram2dcontour\":[{\"type\":\"histogram2dcontour\",\"colorbar\":{\"outlinewidth\":0,\"ticks\":\"\"},\"colorscale\":[[0.0,\"#0d0887\"],[0.1111111111111111,\"#46039f\"],[0.2222222222222222,\"#7201a8\"],[0.3333333333333333,\"#9c179e\"],[0.4444444444444444,\"#bd3786\"],[0.5555555555555556,\"#d8576b\"],[0.6666666666666666,\"#ed7953\"],[0.7777777777777778,\"#fb9f3a\"],[0.8888888888888888,\"#fdca26\"],[1.0,\"#f0f921\"]]}],\"choropleth\":[{\"type\":\"choropleth\",\"colorbar\":{\"outlinewidth\":0,\"ticks\":\"\"}}],\"histogram2d\":[{\"type\":\"histogram2d\",\"colorbar\":{\"outlinewidth\":0,\"ticks\":\"\"},\"colorscale\":[[0.0,\"#0d0887\"],[0.1111111111111111,\"#46039f\"],[0.2222222222222222,\"#7201a8\"],[0.3333333333333333,\"#9c179e\"],[0.4444444444444444,\"#bd3786\"],[0.5555555555555556,\"#d8576b\"],[0.6666666666666666,\"#ed7953\"],[0.7777777777777778,\"#fb9f3a\"],[0.8888888888888888,\"#fdca26\"],[1.0,\"#f0f921\"]]}],\"heatmap\":[{\"type\":\"heatmap\",\"colorbar\":{\"outlinewidth\":0,\"ticks\":\"\"},\"colorscale\":[[0.0,\"#0d0887\"],[0.1111111111111111,\"#46039f\"],[0.2222222222222222,\"#7201a8\"],[0.3333333333333333,\"#9c179e\"],[0.4444444444444444,\"#bd3786\"],[0.5555555555555556,\"#d8576b\"],[0.6666666666666666,\"#ed7953\"],[0.7777777777777778,\"#fb9f3a\"],[0.8888888888888888,\"#fdca26\"],[1.0,\"#f0f921\"]]}],\"heatmapgl\":[{\"type\":\"heatmapgl\",\"colorbar\":{\"outlinewidth\":0,\"ticks\":\"\"},\"colorscale\":[[0.0,\"#0d0887\"],[0.1111111111111111,\"#46039f\"],[0.2222222222222222,\"#7201a8\"],[0.3333333333333333,\"#9c179e\"],[0.4444444444444444,\"#bd3786\"],[0.5555555555555556,\"#d8576b\"],[0.6666666666666666,\"#ed7953\"],[0.7777777777777778,\"#fb9f3a\"],[0.8888888888888888,\"#fdca26\"],[1.0,\"#f0f921\"]]}],\"contourcarpet\":[{\"type\":\"contourcarpet\",\"colorbar\":{\"outlinewidth\":0,\"ticks\":\"\"}}],\"contour\":[{\"type\":\"contour\",\"colorbar\":{\"outlinewidth\":0,\"ticks\":\"\"},\"colorscale\":[[0.0,\"#0d0887\"],[0.1111111111111111,\"#46039f\"],[0.2222222222222222,\"#7201a8\"],[0.3333333333333333,\"#9c179e\"],[0.4444444444444444,\"#bd3786\"],[0.5555555555555556,\"#d8576b\"],[0.6666666666666666,\"#ed7953\"],[0.7777777777777778,\"#fb9f3a\"],[0.8888888888888888,\"#fdca26\"],[1.0,\"#f0f921\"]]}],\"surface\":[{\"type\":\"surface\",\"colorbar\":{\"outlinewidth\":0,\"ticks\":\"\"},\"colorscale\":[[0.0,\"#0d0887\"],[0.1111111111111111,\"#46039f\"],[0.2222222222222222,\"#7201a8\"],[0.3333333333333333,\"#9c179e\"],[0.4444444444444444,\"#bd3786\"],[0.5555555555555556,\"#d8576b\"],[0.6666666666666666,\"#ed7953\"],[0.7777777777777778,\"#fb9f3a\"],[0.8888888888888888,\"#fdca26\"],[1.0,\"#f0f921\"]]}],\"mesh3d\":[{\"type\":\"mesh3d\",\"colorbar\":{\"outlinewidth\":0,\"ticks\":\"\"}}],\"scatter\":[{\"fillpattern\":{\"fillmode\":\"overlay\",\"size\":10,\"solidity\":0.2},\"type\":\"scatter\"}],\"parcoords\":[{\"type\":\"parcoords\",\"line\":{\"colorbar\":{\"outlinewidth\":0,\"ticks\":\"\"}}}],\"scatterpolargl\":[{\"type\":\"scatterpolargl\",\"marker\":{\"colorbar\":{\"outlinewidth\":0,\"ticks\":\"\"}}}],\"bar\":[{\"error_x\":{\"color\":\"#2a3f5f\"},\"error_y\":{\"color\":\"#2a3f5f\"},\"marker\":{\"line\":{\"color\":\"#E5ECF6\",\"width\":0.5},\"pattern\":{\"fillmode\":\"overlay\",\"size\":10,\"solidity\":0.2}},\"type\":\"bar\"}],\"scattergeo\":[{\"type\":\"scattergeo\",\"marker\":{\"colorbar\":{\"outlinewidth\":0,\"ticks\":\"\"}}}],\"scatterpolar\":[{\"type\":\"scatterpolar\",\"marker\":{\"colorbar\":{\"outlinewidth\":0,\"ticks\":\"\"}}}],\"histogram\":[{\"marker\":{\"pattern\":{\"fillmode\":\"overlay\",\"size\":10,\"solidity\":0.2}},\"type\":\"histogram\"}],\"scattergl\":[{\"type\":\"scattergl\",\"marker\":{\"colorbar\":{\"outlinewidth\":0,\"ticks\":\"\"}}}],\"scatter3d\":[{\"type\":\"scatter3d\",\"line\":{\"colorbar\":{\"outlinewidth\":0,\"ticks\":\"\"}},\"marker\":{\"colorbar\":{\"outlinewidth\":0,\"ticks\":\"\"}}}],\"scattermapbox\":[{\"type\":\"scattermapbox\",\"marker\":{\"colorbar\":{\"outlinewidth\":0,\"ticks\":\"\"}}}],\"scatterternary\":[{\"type\":\"scatterternary\",\"marker\":{\"colorbar\":{\"outlinewidth\":0,\"ticks\":\"\"}}}],\"scattercarpet\":[{\"type\":\"scattercarpet\",\"marker\":{\"colorbar\":{\"outlinewidth\":0,\"ticks\":\"\"}}}],\"carpet\":[{\"aaxis\":{\"endlinecolor\":\"#2a3f5f\",\"gridcolor\":\"white\",\"linecolor\":\"white\",\"minorgridcolor\":\"white\",\"startlinecolor\":\"#2a3f5f\"},\"baxis\":{\"endlinecolor\":\"#2a3f5f\",\"gridcolor\":\"white\",\"linecolor\":\"white\",\"minorgridcolor\":\"white\",\"startlinecolor\":\"#2a3f5f\"},\"type\":\"carpet\"}],\"table\":[{\"cells\":{\"fill\":{\"color\":\"#EBF0F8\"},\"line\":{\"color\":\"white\"}},\"header\":{\"fill\":{\"color\":\"#C8D4E3\"},\"line\":{\"color\":\"white\"}},\"type\":\"table\"}],\"barpolar\":[{\"marker\":{\"line\":{\"color\":\"#E5ECF6\",\"width\":0.5},\"pattern\":{\"fillmode\":\"overlay\",\"size\":10,\"solidity\":0.2}},\"type\":\"barpolar\"}],\"pie\":[{\"automargin\":true,\"type\":\"pie\"}]},\"layout\":{\"autotypenumbers\":\"strict\",\"colorway\":[\"#636efa\",\"#EF553B\",\"#00cc96\",\"#ab63fa\",\"#FFA15A\",\"#19d3f3\",\"#FF6692\",\"#B6E880\",\"#FF97FF\",\"#FECB52\"],\"font\":{\"color\":\"#2a3f5f\"},\"hovermode\":\"closest\",\"hoverlabel\":{\"align\":\"left\"},\"paper_bgcolor\":\"white\",\"plot_bgcolor\":\"#E5ECF6\",\"polar\":{\"bgcolor\":\"#E5ECF6\",\"angularaxis\":{\"gridcolor\":\"white\",\"linecolor\":\"white\",\"ticks\":\"\"},\"radialaxis\":{\"gridcolor\":\"white\",\"linecolor\":\"white\",\"ticks\":\"\"}},\"ternary\":{\"bgcolor\":\"#E5ECF6\",\"aaxis\":{\"gridcolor\":\"white\",\"linecolor\":\"white\",\"ticks\":\"\"},\"baxis\":{\"gridcolor\":\"white\",\"linecolor\":\"white\",\"ticks\":\"\"},\"caxis\":{\"gridcolor\":\"white\",\"linecolor\":\"white\",\"ticks\":\"\"}},\"coloraxis\":{\"colorbar\":{\"outlinewidth\":0,\"ticks\":\"\"}},\"colorscale\":{\"sequential\":[[0.0,\"#0d0887\"],[0.1111111111111111,\"#46039f\"],[0.2222222222222222,\"#7201a8\"],[0.3333333333333333,\"#9c179e\"],[0.4444444444444444,\"#bd3786\"],[0.5555555555555556,\"#d8576b\"],[0.6666666666666666,\"#ed7953\"],[0.7777777777777778,\"#fb9f3a\"],[0.8888888888888888,\"#fdca26\"],[1.0,\"#f0f921\"]],\"sequentialminus\":[[0.0,\"#0d0887\"],[0.1111111111111111,\"#46039f\"],[0.2222222222222222,\"#7201a8\"],[0.3333333333333333,\"#9c179e\"],[0.4444444444444444,\"#bd3786\"],[0.5555555555555556,\"#d8576b\"],[0.6666666666666666,\"#ed7953\"],[0.7777777777777778,\"#fb9f3a\"],[0.8888888888888888,\"#fdca26\"],[1.0,\"#f0f921\"]],\"diverging\":[[0,\"#8e0152\"],[0.1,\"#c51b7d\"],[0.2,\"#de77ae\"],[0.3,\"#f1b6da\"],[0.4,\"#fde0ef\"],[0.5,\"#f7f7f7\"],[0.6,\"#e6f5d0\"],[0.7,\"#b8e186\"],[0.8,\"#7fbc41\"],[0.9,\"#4d9221\"],[1,\"#276419\"]]},\"xaxis\":{\"gridcolor\":\"white\",\"linecolor\":\"white\",\"ticks\":\"\",\"title\":{\"standoff\":15},\"zerolinecolor\":\"white\",\"automargin\":true,\"zerolinewidth\":2},\"yaxis\":{\"gridcolor\":\"white\",\"linecolor\":\"white\",\"ticks\":\"\",\"title\":{\"standoff\":15},\"zerolinecolor\":\"white\",\"automargin\":true,\"zerolinewidth\":2},\"scene\":{\"xaxis\":{\"backgroundcolor\":\"#E5ECF6\",\"gridcolor\":\"white\",\"linecolor\":\"white\",\"showbackground\":true,\"ticks\":\"\",\"zerolinecolor\":\"white\",\"gridwidth\":2},\"yaxis\":{\"backgroundcolor\":\"#E5ECF6\",\"gridcolor\":\"white\",\"linecolor\":\"white\",\"showbackground\":true,\"ticks\":\"\",\"zerolinecolor\":\"white\",\"gridwidth\":2},\"zaxis\":{\"backgroundcolor\":\"#E5ECF6\",\"gridcolor\":\"white\",\"linecolor\":\"white\",\"showbackground\":true,\"ticks\":\"\",\"zerolinecolor\":\"white\",\"gridwidth\":2}},\"shapedefaults\":{\"line\":{\"color\":\"#2a3f5f\"}},\"annotationdefaults\":{\"arrowcolor\":\"#2a3f5f\",\"arrowhead\":0,\"arrowwidth\":1},\"geo\":{\"bgcolor\":\"white\",\"landcolor\":\"#E5ECF6\",\"subunitcolor\":\"white\",\"showland\":true,\"showlakes\":true,\"lakecolor\":\"white\"},\"title\":{\"x\":0.05},\"mapbox\":{\"style\":\"light\"}}},\"scene\":{\"domain\":{\"x\":[0.0,1.0],\"y\":[0.0,1.0]},\"xaxis\":{\"title\":{\"text\":\"support\"}},\"yaxis\":{\"title\":{\"text\":\"confidence\"}},\"zaxis\":{\"title\":{\"text\":\"lift\"}}},\"coloraxis\":{\"colorbar\":{\"title\":{\"text\":\"antecedent support\"}},\"colorscale\":[[0.0,\"#0d0887\"],[0.1111111111111111,\"#46039f\"],[0.2222222222222222,\"#7201a8\"],[0.3333333333333333,\"#9c179e\"],[0.4444444444444444,\"#bd3786\"],[0.5555555555555556,\"#d8576b\"],[0.6666666666666666,\"#ed7953\"],[0.7777777777777778,\"#fb9f3a\"],[0.8888888888888888,\"#fdca26\"],[1.0,\"#f0f921\"]]},\"legend\":{\"tracegroupgap\":0},\"title\":{\"text\":\"3d Plot for Rule Mining\"},\"height\":800,\"width\":900},                        {\"responsive\": true}                    ).then(function(){\n",
              "                            \n",
              "var gd = document.getElementById('35b30a8d-e09d-49a3-9596-c113af8333f3');\n",
              "var x = new MutationObserver(function (mutations, observer) {{\n",
              "        var display = window.getComputedStyle(gd).display;\n",
              "        if (!display || display === 'none') {{\n",
              "            console.log([gd, 'removed!']);\n",
              "            Plotly.purge(gd);\n",
              "            observer.disconnect();\n",
              "        }}\n",
              "}});\n",
              "\n",
              "// Listen for the removal of the full notebook cells\n",
              "var notebookContainer = gd.closest('#notebook-container');\n",
              "if (notebookContainer) {{\n",
              "    x.observe(notebookContainer, {childList: true});\n",
              "}}\n",
              "\n",
              "// Listen for the clearing of the current output cell\n",
              "var outputEl = gd.closest('.output');\n",
              "if (outputEl) {{\n",
              "    x.observe(outputEl, {childList: true});\n",
              "}}\n",
              "\n",
              "                        })                };                });            </script>        </div>"
            ]
          },
          "metadata": {}
        }
      ]
    }
  ]
}